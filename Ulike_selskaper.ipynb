{
 "cells": [
  {
   "cell_type": "markdown",
   "metadata": {},
   "source": [
    "# Ulike Selskaper (Sammenlikning)"
   ]
  },
  {
   "cell_type": "markdown",
   "metadata": {},
   "source": [
    "## Imports osv"
   ]
  },
  {
   "cell_type": "code",
   "execution_count": 2,
   "metadata": {},
   "outputs": [
    {
     "name": "stdout",
     "output_type": "stream",
     "text": [
      "\u001b[33mDEPRECATION: Loading egg at /opt/anaconda3/envs/embed/lib/python3.12/site-packages/sacremoses-0.0.43-py3.8.egg is deprecated. pip 24.3 will enforce this behaviour change. A possible replacement is to use pip for package installation. Discussion can be found at https://github.com/pypa/pip/issues/12330\u001b[0m\u001b[33m\n",
      "\u001b[0m\n",
      "\u001b[1m[\u001b[0m\u001b[34;49mnotice\u001b[0m\u001b[1;39;49m]\u001b[0m\u001b[39;49m A new release of pip is available: \u001b[0m\u001b[31;49m24.1.2\u001b[0m\u001b[39;49m -> \u001b[0m\u001b[32;49m24.2\u001b[0m\n",
      "\u001b[1m[\u001b[0m\u001b[34;49mnotice\u001b[0m\u001b[1;39;49m]\u001b[0m\u001b[39;49m To update, run: \u001b[0m\u001b[32;49mpip install --upgrade pip\u001b[0m\n"
     ]
    },
    {
     "name": "stderr",
     "output_type": "stream",
     "text": [
      "/opt/anaconda3/envs/embed/lib/python3.12/site-packages/sentence_transformers/cross_encoder/CrossEncoder.py:11: TqdmExperimentalWarning: Using `tqdm.autonotebook.tqdm` in notebook mode. Use `tqdm.tqdm` instead to force console mode (e.g. in jupyter console)\n",
      "  from tqdm.autonotebook import tqdm, trange\n"
     ]
    }
   ],
   "source": [
    "# Installing packages\n",
    "!pip install webdriver-manager plotnine selenium hdbscan beautifulsoup4 keybert pycryptodome sentence-transformers PyPDF2 --quiet\n",
    "\n",
    "# Importing the transformer\n",
    "from sentence_transformers import SentenceTransformer\n",
    "\n",
    "# Basic imports\n",
    "import numpy as np\n",
    "import matplotlib.pyplot as plt\n",
    "import pickle\n",
    "import pandas as pd\n",
    "import scipy as sc\n",
    "import requests\n",
    "import torch\n",
    "import time\n",
    "from selenium import webdriver\n",
    "from selenium.webdriver.common.by import By\n",
    "from sklearn.cluster import KMeans\n",
    "from bs4 import BeautifulSoup\n",
    "from sklearn.manifold import TSNE\n",
    "from keybert import KeyBERT\n",
    "from sklearn.decomposition import PCA   \n",
    "\n",
    "# Special imports for plots\n",
    "import matplotlib.patches as mpatches\n",
    "import matplotlib.colors as mcolors\n",
    "from sklearn.linear_model import LinearRegression\n",
    "\n",
    "# Imports for the widgets\n",
    "from ipywidgets import widgets, interact\n",
    "from IPython.display import display, clear_output\n",
    "\n",
    "#Imports for decrypting urls to pdfs or html\n",
    "from urllib.parse import urljoin\n",
    "import re\n",
    "import requests\n",
    "import PyPDF2\n",
    "from bs4 import BeautifulSoup\n",
    "from Crypto.Cipher import AES\n",
    "from Crypto.Random import get_random_bytes"
   ]
  },
  {
   "cell_type": "markdown",
   "metadata": {},
   "source": [
    "## Selskapene"
   ]
  },
  {
   "cell_type": "code",
   "execution_count": 3,
   "metadata": {},
   "outputs": [],
   "source": [
    "def snitt(embeddings):\n",
    "  snitt = [emb.mean(dim=0).numpy() for emb in embeddings]\n",
    "  return snitt"
   ]
  },
  {
   "cell_type": "code",
   "execution_count": 4,
   "metadata": {},
   "outputs": [],
   "source": [
    "def snitt2(embeddings):\n",
    "    tensor_embeddings = [torch.tensor(emb) for emb in embeddings]\n",
    "    snitt2 = torch.stack(tensor_embeddings).mean(dim=0)\n",
    "    return snitt2"
   ]
  },
  {
   "cell_type": "markdown",
   "metadata": {},
   "source": [
    "### ExxonMobil (ferdig)"
   ]
  },
  {
   "cell_type": "code",
   "execution_count": 5,
   "metadata": {},
   "outputs": [
    {
     "name": "stdout",
     "output_type": "stream",
     "text": [
      "Exxon (9): [array([-0.24312055,  0.5051784 ,  0.1549819 , ..., -0.6929625 ,\n",
      "       -0.24416393,  0.20473239], dtype=float32), array([-0.29078484,  0.5914777 ,  0.13950814, ..., -0.7001572 ,\n",
      "       -0.25072357,  0.20023325], dtype=float32), array([-0.20187528,  0.6276899 ,  0.10301138, ..., -0.74484354,\n",
      "       -0.26047188,  0.18062863], dtype=float32), array([-0.24780482,  0.5994666 ,  0.07525771, ..., -0.7720047 ,\n",
      "       -0.2908926 ,  0.16564277], dtype=float32), array([-0.22474691,  0.5233269 , -0.01631049, ..., -0.7311823 ,\n",
      "       -0.29212835,  0.04337287], dtype=float32), array([-0.23074628,  0.52626956,  0.08668005, ..., -0.7644288 ,\n",
      "       -0.36406428,  0.02450266], dtype=float32), array([-0.26597995,  0.5513826 ,  0.03799932, ..., -0.81161195,\n",
      "       -0.4229434 ,  0.01807259], dtype=float32), array([-0.29241958,  0.46201125,  0.14774753, ..., -0.61416876,\n",
      "       -0.35401216,  0.04904832], dtype=float32), array([-0.24218343,  0.52749103,  0.07972469, ..., -0.6482674 ,\n",
      "       -0.38613802,  0.06073271], dtype=float32)]\n"
     ]
    }
   ],
   "source": [
    "## Nyheter\n",
    "\n",
    "with open('data/Exxon_news_embeddings.pkl', 'rb') as file:\n",
    "    exxon_news = pickle.load(file)\n",
    "\n",
    "exxon_news = snitt(exxon_news)\n",
    "print(f\"Exxon ({len(exxon_news)}): {exxon_news}\")  ## 2016-2024"
   ]
  },
  {
   "cell_type": "code",
   "execution_count": 6,
   "metadata": {},
   "outputs": [
    {
     "name": "stdout",
     "output_type": "stream",
     "text": [
      "Exxon pdfs (19): [array([-0.22781669,  0.38537815,  0.19508766, ..., -0.53855574,\n",
      "       -0.11800872,  0.02399045], dtype=float32), array([-0.30487993,  0.41544023,  0.2648207 , ..., -0.5337237 ,\n",
      "       -0.09432547,  0.06944883], dtype=float32), array([-0.3451626 ,  0.35419983,  0.28743222, ..., -0.5534892 ,\n",
      "       -0.0566364 ,  0.03825697], dtype=float32), array([-0.34910408,  0.38831043,  0.27330124, ..., -0.5279413 ,\n",
      "       -0.1300687 ,  0.10858613], dtype=float32), array([-0.17983247,  0.3928511 ,  0.2291526 , ..., -0.5959525 ,\n",
      "       -0.18422541,  0.07356749], dtype=float32), array([-0.24974872,  0.44549093,  0.16161783, ..., -0.55117375,\n",
      "       -0.16703561,  0.09680172], dtype=float32), array([-0.17487592,  0.3465895 , -0.00360052, ..., -0.55172074,\n",
      "       -0.07655721,  0.03829744], dtype=float32), array([-0.26372355,  0.2914685 ,  0.06161993, ..., -0.56271505,\n",
      "       -0.08845039,  0.08164842], dtype=float32), array([-0.20515424,  0.22020929,  0.05750237, ..., -0.53925914,\n",
      "       -0.09473954,  0.08036292], dtype=float32), array([-0.2580651 ,  0.2833968 ,  0.12889542, ..., -0.5277454 ,\n",
      "       -0.11534806,  0.14050913], dtype=float32), array([-0.15249355,  0.2491136 ,  0.29505375, ..., -0.3799063 ,\n",
      "       -0.31978992,  0.0370834 ], dtype=float32), array([-0.24409877,  0.30189496,  0.1587352 , ..., -0.5345699 ,\n",
      "       -0.17259353,  0.05219324], dtype=float32), array([-0.28576776,  0.3293733 ,  0.13440181, ..., -0.5643007 ,\n",
      "       -0.19990352,  0.03213303], dtype=float32), array([-0.25954238,  0.32232454,  0.09719653, ..., -0.5843152 ,\n",
      "       -0.17625517,  0.01281322], dtype=float32), array([-0.28482136,  0.34497628,  0.13643414, ..., -0.61190635,\n",
      "       -0.24992292,  0.02231615], dtype=float32), array([-0.3059471 ,  0.37566817,  0.08466529, ..., -0.58994466,\n",
      "       -0.23679572,  0.01014389], dtype=float32), array([-0.26643488,  0.3507583 ,  0.05631249, ..., -0.60291594,\n",
      "       -0.2515295 ,  0.02245692], dtype=float32), array([-0.23341753,  0.34383348,  0.03389307, ..., -0.611988  ,\n",
      "       -0.20114759,  0.02349959], dtype=float32), array([-0.19571412,  0.3421345 ,  0.06696552, ..., -0.56078595,\n",
      "       -0.23431873, -0.01734453], dtype=float32)]\n"
     ]
    }
   ],
   "source": [
    "## Årsrapporter\n",
    "\n",
    "with open(\"data/Exxon_pdfs.pkl\", \"rb\") as file:\n",
    "    exxon_annual = pickle.load(file)\n",
    "\n",
    "exxon_annual = snitt(list(exxon_annual.values()))\n",
    "print(f\"Exxon pdfs ({len(exxon_annual)}): {exxon_annual}\")  ## 2005-2023"
   ]
  },
  {
   "cell_type": "markdown",
   "metadata": {},
   "source": [
    "### TotalEnergies"
   ]
  },
  {
   "cell_type": "code",
   "execution_count": 7,
   "metadata": {},
   "outputs": [
    {
     "name": "stdout",
     "output_type": "stream",
     "text": [
      "TotalEnergies news (10): [array([-0.04135138,  0.7218397 , -0.04414669, ..., -0.23318239,\n",
      "        0.17626308,  0.03602049], dtype=float32), array([-0.18794447,  0.5433031 , -0.3201899 , ..., -0.29937813,\n",
      "        0.21399568,  0.06335741], dtype=float32), array([ 0.07606629,  0.4995294 , -0.20137684, ..., -0.3297443 ,\n",
      "        0.11223628,  0.16347477], dtype=float32), array([-0.18931998,  0.5251537 , -0.21074122, ..., -0.40925866,\n",
      "        0.00245002,  0.04477068], dtype=float32), array([-0.12864353,  0.5432309 , -0.41699278, ..., -0.2743    ,\n",
      "        0.2644349 ,  0.3001077 ], dtype=float32), array([-0.12654464,  0.48453233, -0.47715136, ..., -0.27173695,\n",
      "       -0.00150779,  0.07591252], dtype=float32), array([-0.17133111,  0.569401  , -0.5499726 , ..., -0.41587505,\n",
      "        0.06794162, -0.02545478], dtype=float32), array([-0.30374825,  0.49028638, -0.42402983, ..., -0.41798753,\n",
      "       -0.0138607 , -0.07077897], dtype=float32), array([-0.17713709,  0.5844908 , -0.3734641 , ..., -0.39524868,\n",
      "        0.15509905, -0.10260087], dtype=float32), array([-0.21304858,  0.5763211 , -0.40060034, ..., -0.3234527 ,\n",
      "        0.09692641, -0.07872039], dtype=float32)]\n"
     ]
    }
   ],
   "source": [
    "## Nyheter\n",
    "\n",
    "with open(\"data/totalenergies_newsembeddings_2015_2024.pickle\", \"rb\") as file:\n",
    "    totalEnergies_news = pickle.load(file)\n",
    "\n",
    "totalEnergies_news = snitt(totalEnergies_news)\n",
    "print(f\"TotalEnergies news ({len(totalEnergies_news)}): {totalEnergies_news}\")  ## 2015-2024"
   ]
  },
  {
   "cell_type": "code",
   "execution_count": 8,
   "metadata": {},
   "outputs": [
    {
     "name": "stdout",
     "output_type": "stream",
     "text": [
      "dict_keys(['2023', '2022', '2021', '2020', '2019', '2018', '2017', '2016', '2015', '2014', '2013', '2012', '2011', '2010', '2009', '2008', '2007', '2006'])\n",
      "TotalEnergies annual (18): [tensor([-0.0805,  0.5748,  0.0537,  ..., -0.5654,  0.0386,  0.1145]), tensor([-0.1245,  0.4820,  0.0875,  ..., -0.5067,  0.0260,  0.0446]), tensor([-0.1247,  0.5291,  0.0474,  ..., -0.5077, -0.0198,  0.1180]), tensor([-0.0928,  0.5179,  0.0333,  ..., -0.5023, -0.0854,  0.1075]), tensor([-0.0957, -0.6846, -0.0909,  ...,  0.0758, -0.1351, -0.0555]), tensor([-0.0980, -0.6837, -0.0977,  ...,  0.0771, -0.1374, -0.0559]), tensor([-0.1035, -0.6897, -0.0948,  ...,  0.0747, -0.1378, -0.0541]), tensor([-0.0985, -0.6863, -0.0904,  ...,  0.0773, -0.1358, -0.0558]), tensor([-0.1001, -0.6812, -0.0886,  ...,  0.0754, -0.1362, -0.0523]), tensor([-0.0962, -0.6863, -0.0904,  ...,  0.0698, -0.1389, -0.0529]), tensor([-0.0988, -0.6935, -0.1059,  ...,  0.0806, -0.1365, -0.0457]), tensor([-0.2602,  0.4919, -0.1675,  ..., -0.4459,  0.0448,  0.1436]), tensor([-0.1031, -0.6671, -0.1342,  ...,  0.0303, -0.1158, -0.0339]), tensor([-0.3035,  0.3979, -0.1686,  ..., -0.4692, -0.0320,  0.1014]), tensor([-0.2963,  0.4559, -0.1402,  ..., -0.5181,  0.0902,  0.0831]), tensor([-0.3209,  0.6182, -0.1313,  ..., -0.3984,  0.0248,  0.0249]), tensor([-0.3067,  0.6398, -0.0965,  ..., -0.4732,  0.0415,  0.0177]), tensor([-0.2786,  0.6229, -0.1587,  ..., -0.4502,  0.0239,  0.0501])]\n"
     ]
    },
    {
     "name": "stderr",
     "output_type": "stream",
     "text": [
      "/var/folders/jj/d77tn1s96j9dgz5sx1cf0b500000gn/T/ipykernel_57786/1462058501.py:2: UserWarning: To copy construct from a tensor, it is recommended to use sourceTensor.clone().detach() or sourceTensor.clone().detach().requires_grad_(True), rather than torch.tensor(sourceTensor).\n",
      "  tensor_embeddings = [torch.tensor(emb) for emb in embeddings]\n"
     ]
    }
   ],
   "source": [
    "## Årsrapporter\n",
    "\n",
    "with open(\"data/annual_totalenergies.pkl\", \"rb\") as file:\n",
    "    totalEnergies_pdfs = pickle.load(file)\n",
    "\n",
    "print(totalEnergies_pdfs.keys())\n",
    "\n",
    "totalEnergies_annual = []\n",
    "for year in totalEnergies_pdfs:\n",
    "    tensor_embeddings = [torch.tensor(emb) for emb in totalEnergies_pdfs[year]]\n",
    "    mean = snitt2(tensor_embeddings)\n",
    "    totalEnergies_annual.append(mean)\n",
    "totalEnergies_annual.reverse()\n",
    "print(f\"TotalEnergies annual ({len(totalEnergies_annual)}): {totalEnergies_annual}\")  ## 2006-2023"
   ]
  },
  {
   "cell_type": "markdown",
   "metadata": {},
   "source": [
    "### AkerBP (ferdig)"
   ]
  },
  {
   "cell_type": "code",
   "execution_count": 9,
   "metadata": {},
   "outputs": [
    {
     "name": "stdout",
     "output_type": "stream",
     "text": [
      "AkerBP news (9): [array([ 0.34267336,  0.58903885, -0.04372702, ..., -1.0807465 ,\n",
      "       -0.57759476,  0.2693308 ], dtype=float32), array([ 0.2573317 ,  0.39258513, -0.1900722 , ..., -1.1565386 ,\n",
      "       -0.5862084 ,  0.17565815], dtype=float32), array([ 0.21637367,  0.27790096, -0.1462012 , ..., -1.114886  ,\n",
      "       -0.70084953,  0.24041098], dtype=float32), array([ 0.3084579 ,  0.52573806, -0.23526993, ..., -1.1351568 ,\n",
      "       -0.4362622 ,  0.37928843], dtype=float32), array([ 0.3581431 ,  0.43783376, -0.2686381 , ..., -1.116644  ,\n",
      "       -0.544963  ,  0.21410924], dtype=float32), array([ 0.3094682 ,  0.54865134, -0.15052861, ..., -1.0879618 ,\n",
      "       -0.4746925 ,  0.24485879], dtype=float32), array([ 0.22245272,  0.4727047 , -0.35373348, ..., -0.89436203,\n",
      "       -0.38583446,  0.2845176 ], dtype=float32), array([ 0.3404096 ,  0.5370492 , -0.17731668, ..., -0.99929506,\n",
      "       -0.39034832,  0.22795507], dtype=float32), array([ 0.49007818,  0.63084036, -0.02246108, ..., -0.8651808 ,\n",
      "       -0.49745318,  0.38556156], dtype=float32)]\n"
     ]
    }
   ],
   "source": [
    "## Nyheter\n",
    "\n",
    "with open('data/AkerBP_news_embeddings.pkl', 'rb') as file:\n",
    "    akerBP_news = pickle.load(file)\n",
    "\n",
    "akerBP_news = snitt(akerBP_news)\n",
    "print(f\"AkerBP news ({len(akerBP_news)}): {akerBP_news}\")  ## 2016-2024"
   ]
  },
  {
   "cell_type": "code",
   "execution_count": 10,
   "metadata": {},
   "outputs": [
    {
     "name": "stdout",
     "output_type": "stream",
     "text": [
      "Aker BP pdfs (15): [tensor([ 0.4496,  0.7144,  0.0890,  ..., -1.0203, -0.5103,  0.2943]), tensor([ 0.3717,  0.5783,  0.1684,  ..., -0.9368, -0.4056,  0.2735]), tensor([ 0.4339,  0.4672,  0.0503,  ..., -0.7920, -0.3806,  0.2254]), tensor([-0.0130,  0.3270,  0.0514,  ..., -0.7376, -0.2469,  0.2719]), tensor([ 0.0053,  0.3280,  0.0918,  ..., -0.6227, -0.2649,  0.2980]), tensor([ 0.0400,  0.3700,  0.1783,  ..., -0.6663, -0.3817,  0.2949]), tensor([ 0.1662,  0.2601, -0.0888,  ..., -0.6957, -0.6634,  0.4423]), tensor([ 0.1434,  0.0996,  0.3218,  ..., -0.6920, -0.6728,  0.0150]), tensor([ 0.0056,  0.3316,  0.0505,  ..., -0.8696, -0.5513,  0.1292]), tensor([ 0.0896,  0.2809,  0.0614,  ..., -0.9446, -0.6048,  0.1295]), tensor([ 0.0772,  0.2754,  0.0418,  ..., -0.8781, -0.6591,  0.1122]), tensor([ 0.1263,  0.2631, -0.0113,  ..., -0.8838, -0.6215,  0.0877]), tensor([ 0.0964,  0.2723, -0.0264,  ..., -0.8215, -0.5835,  0.0910]), tensor([ 0.0360,  0.2449,  0.0097,  ..., -0.7858, -0.5758,  0.0709]), tensor([ 0.0680,  0.2795, -0.0952,  ..., -0.8255, -0.5588,  0.1296])]\n"
     ]
    },
    {
     "name": "stderr",
     "output_type": "stream",
     "text": [
      "/var/folders/jj/d77tn1s96j9dgz5sx1cf0b500000gn/T/ipykernel_57786/1462058501.py:2: UserWarning: To copy construct from a tensor, it is recommended to use sourceTensor.clone().detach() or sourceTensor.clone().detach().requires_grad_(True), rather than torch.tensor(sourceTensor).\n",
      "  tensor_embeddings = [torch.tensor(emb) for emb in embeddings]\n"
     ]
    }
   ],
   "source": [
    "## Årsrapporter\n",
    "\n",
    "with open(\"data/annual_AkerBP.pkl\", \"rb\") as file:\n",
    "    akerBP_pdfs = pickle.load(file)\n",
    "\n",
    "akerBP_annual = []\n",
    "for year in akerBP_pdfs:\n",
    "    tensor_embeddings = [torch.tensor(emb) for emb in akerBP_pdfs[year]]\n",
    "    mean = snitt2(tensor_embeddings)\n",
    "    akerBP_annual.append(mean)\n",
    "akerBP_annual.reverse()\n",
    "\n",
    "print(f\"Aker BP pdfs ({len(akerBP_annual)}): {akerBP_annual}\")  ## 2009-2023"
   ]
  },
  {
   "cell_type": "markdown",
   "metadata": {},
   "source": [
    "### Chevron (ferdig)"
   ]
  },
  {
   "cell_type": "code",
   "execution_count": 11,
   "metadata": {},
   "outputs": [
    {
     "name": "stdout",
     "output_type": "stream",
     "text": [
      "Chevron pdfs (29): [tensor([-0.0661,  0.5594,  0.0784,  ..., -0.5134, -0.1062, -0.0410]), tensor([-0.1205,  0.5682,  0.1302,  ..., -0.5190, -0.1122, -0.0283]), tensor([-0.1422,  0.6586,  0.0729,  ..., -0.5296, -0.1574, -0.0380]), tensor([-0.1394,  0.5013, -0.0505,  ..., -0.5059, -0.1669,  0.0253]), tensor([-0.1554,  0.3678,  0.1085,  ..., -0.5528, -0.1309, -0.0345]), tensor([-0.0582,  0.3542,  0.1054,  ..., -0.6133, -0.1051, -0.0363]), tensor([-0.0438,  0.2954, -0.0657,  ..., -0.5288, -0.1427, -0.0673]), tensor([-0.1720,  0.5488, -0.2328,  ..., -0.5560, -0.0726,  0.1061]), tensor([-0.1339,  0.5308, -0.2633,  ..., -0.6178, -0.0596,  0.1203]), tensor([-0.1397,  0.5380, -0.2469,  ..., -0.6136, -0.0450,  0.1399]), tensor([-0.1560,  0.5473, -0.1461,  ..., -0.5115, -0.0482,  0.0715]), tensor([-0.1824,  0.5203, -0.0884,  ..., -0.5387, -0.0199,  0.0507]), tensor([-0.2451,  0.5275, -0.0481,  ..., -0.5563,  0.0287,  0.0457]), tensor([-0.2393,  0.5199, -0.0915,  ..., -0.5196,  0.0109,  0.0987]), tensor([-0.2296,  0.5412, -0.0430,  ..., -0.4593, -0.0453,  0.0911]), tensor([-0.2092,  0.5362, -0.1759,  ..., -0.4932, -0.0120,  0.1075]), tensor([-0.1842,  0.5057, -0.2461,  ..., -0.3950, -0.0020,  0.0670]), tensor([-0.3084,  0.4589, -0.1882,  ..., -0.4901,  0.0577,  0.0952]), tensor([-0.2984,  0.3985, -0.1140,  ..., -0.3634,  0.0139,  0.0922]), tensor([-0.2669,  0.4975, -0.0930,  ..., -0.3991, -0.0470,  0.1309]), tensor([-0.2262,  0.4799, -0.0645,  ..., -0.4292, -0.0774,  0.1319]), tensor([-0.2962,  0.4597, -0.0919,  ..., -0.3769, -0.0933,  0.0886]), tensor([-0.0996, -0.5719, -0.1374,  ...,  0.0132, -0.1076, -0.0206]), tensor([-0.0848, -0.4198, -0.1102,  ..., -0.1720, -0.1050, -0.0365]), tensor([-0.0981, -0.4683, -0.0996,  ..., -0.1199, -0.1041, -0.0329]), tensor([-0.0602, -0.3473, -0.1587,  ..., -0.1835, -0.0650, -0.0151]), tensor([-0.0945, -0.4434, -0.1093,  ..., -0.1298, -0.1153, -0.0347]), tensor([-0.1288,  0.2273, -0.0035,  ..., -0.4934, -0.1012, -0.0966]), tensor([-0.1316,  0.2174,  0.0349,  ..., -0.4711, -0.1159, -0.0983])]\n"
     ]
    },
    {
     "name": "stderr",
     "output_type": "stream",
     "text": [
      "/var/folders/jj/d77tn1s96j9dgz5sx1cf0b500000gn/T/ipykernel_57786/1462058501.py:2: UserWarning: To copy construct from a tensor, it is recommended to use sourceTensor.clone().detach() or sourceTensor.clone().detach().requires_grad_(True), rather than torch.tensor(sourceTensor).\n",
      "  tensor_embeddings = [torch.tensor(emb) for emb in embeddings]\n"
     ]
    }
   ],
   "source": [
    "## Årsrapporter\n",
    "\n",
    "with open(\"data/Chevron_annual.pkl\",\"rb\") as file: \n",
    "    chevron_pdfs = pickle.load(file)\n",
    "\n",
    "chevron_annual = []\n",
    "for year in chevron_pdfs:\n",
    "    tensor_embeddings = [torch.tensor(emb) for emb in chevron_pdfs[year]]\n",
    "    mean = snitt2(tensor_embeddings)\n",
    "    chevron_annual.append(mean)\n",
    "\n",
    "print(f\"Chevron pdfs ({len(chevron_annual)}): {chevron_annual}\")  ## 1995-2023\n"
   ]
  },
  {
   "cell_type": "code",
   "execution_count": 12,
   "metadata": {},
   "outputs": [
    {
     "name": "stdout",
     "output_type": "stream",
     "text": [
      "dict_keys(['2024', '2023', '2022', '2021', '2020', '2019', '2018', '2017'])\n",
      "Chevron (8): [tensor([-0.0993,  0.5528,  0.4099,  ..., -0.6097, -0.6342, -0.0937]), tensor([-0.1583,  0.6644,  0.4357,  ..., -0.4674, -0.3196, -0.3182]), tensor([-0.2072,  0.6092,  0.3804,  ..., -0.4745, -0.3737, -0.2600]), tensor([-0.1344,  0.5919,  0.4013,  ..., -0.4886, -0.2411, -0.2183]), tensor([-0.1425,  0.5735,  0.2986,  ..., -0.3629, -0.3245, -0.3766]), tensor([ 0.0298,  0.7221,  0.1533,  ..., -0.5573, -0.4069, -0.2374]), tensor([ 0.1201,  0.6498,  0.2372,  ..., -0.4784, -0.2591, -0.1406]), tensor([ 0.0853,  0.6971,  0.2261,  ..., -0.4286, -0.2507, -0.2756])]\n"
     ]
    },
    {
     "name": "stderr",
     "output_type": "stream",
     "text": [
      "/var/folders/jj/d77tn1s96j9dgz5sx1cf0b500000gn/T/ipykernel_57786/109183128.py:10: UserWarning: To copy construct from a tensor, it is recommended to use sourceTensor.clone().detach() or sourceTensor.clone().detach().requires_grad_(True), rather than torch.tensor(sourceTensor).\n",
      "  tensor_embeddings = [torch.tensor(emb) for emb in chevron_data[year]]\n",
      "/var/folders/jj/d77tn1s96j9dgz5sx1cf0b500000gn/T/ipykernel_57786/1462058501.py:2: UserWarning: To copy construct from a tensor, it is recommended to use sourceTensor.clone().detach() or sourceTensor.clone().detach().requires_grad_(True), rather than torch.tensor(sourceTensor).\n",
      "  tensor_embeddings = [torch.tensor(emb) for emb in embeddings]\n"
     ]
    }
   ],
   "source": [
    "## Nyheter\n",
    "\n",
    "with open(\"data/Chevron_news_embeddings.pkl\", \"rb\") as file:\n",
    "    chevron_data = pickle.load(file)\n",
    "\n",
    "print(chevron_data.keys())\n",
    "\n",
    "chevron_news = []\n",
    "for year in chevron_data:\n",
    "    tensor_embeddings = [torch.tensor(emb) for emb in chevron_data[year]]\n",
    "    mean = snitt2(tensor_embeddings)\n",
    "    chevron_news.append(mean)\n",
    "chevron_news.reverse()\n",
    "print(f\"Chevron ({len(chevron_news)}): {chevron_news}\")  ## 2017-2024"
   ]
  },
  {
   "cell_type": "markdown",
   "metadata": {},
   "source": [
    "### BP (ferdig)"
   ]
  },
  {
   "cell_type": "code",
   "execution_count": 13,
   "metadata": {},
   "outputs": [
    {
     "name": "stdout",
     "output_type": "stream",
     "text": [
      "BP pdfs (14): [tensor([-0.0847,  0.3093, -0.1967,  ..., -0.4559, -0.0487,  0.1038]), tensor([-0.0327,  0.3027, -0.3805,  ..., -0.5664, -0.0235,  0.1981]), tensor([-0.1290,  0.3374, -0.3669,  ..., -0.5968, -0.0014,  0.2097]), tensor([-0.1340,  0.3590, -0.2757,  ..., -0.4754,  0.0047,  0.1799]), tensor([-0.1422,  0.3915, -0.2400,  ..., -0.4841, -0.0427,  0.1745]), tensor([-0.1036,  0.3838, -0.2771,  ..., -0.5005,  0.0122,  0.1665]), tensor([-0.1409,  0.4662, -0.3501,  ..., -0.4992,  0.0075,  0.2049]), tensor([-0.1748,  0.4649, -0.3080,  ..., -0.5019, -0.0017,  0.1444]), tensor([-0.2132,  0.5249, -0.2783,  ..., -0.5852, -0.0507,  0.1335]), tensor([-0.1433,  0.4537, -0.2642,  ..., -0.4974, -0.0895,  0.1029]), tensor([-0.0920,  0.4211, -0.3082,  ..., -0.5695,  0.0601,  0.1546]), tensor([-0.1389,  0.4664, -0.3580,  ..., -0.5551,  0.0081,  0.0585]), tensor([-0.1714,  0.4737, -0.3313,  ..., -0.5683, -0.0408,  0.0262]), tensor([-0.1037,  0.4496, -0.2654,  ..., -0.5351, -0.0613,  0.0467])]\n"
     ]
    },
    {
     "name": "stderr",
     "output_type": "stream",
     "text": [
      "/var/folders/jj/d77tn1s96j9dgz5sx1cf0b500000gn/T/ipykernel_57786/1462058501.py:2: UserWarning: To copy construct from a tensor, it is recommended to use sourceTensor.clone().detach() or sourceTensor.clone().detach().requires_grad_(True), rather than torch.tensor(sourceTensor).\n",
      "  tensor_embeddings = [torch.tensor(emb) for emb in embeddings]\n"
     ]
    }
   ],
   "source": [
    "## Årsrapporter\n",
    "\n",
    "with open(\"data/BP_annual.pkl\",\"rb\") as file: \n",
    "    BP_pdfs = pickle.load(file)\n",
    "\n",
    "BP_annual = []\n",
    "for year in BP_pdfs:\n",
    "    tensor_embeddings = [torch.tensor(emb) for emb in BP_pdfs[year]]\n",
    "    mean = snitt2(tensor_embeddings)\n",
    "    BP_annual.append(mean)\n",
    "BP_annual.reverse()\n",
    "\n",
    "print(f\"BP pdfs ({len(BP_annual)}): {BP_annual}\")  ## 2010-2023\n"
   ]
  },
  {
   "cell_type": "code",
   "execution_count": 14,
   "metadata": {},
   "outputs": [
    {
     "name": "stdout",
     "output_type": "stream",
     "text": [
      "BP (15): [tensor([-0.1312,  0.4203, -0.0532,  ..., -0.5722, -0.4073,  0.3390]), tensor([-0.0524,  0.2815, -0.1385,  ..., -0.4713, -0.2989,  0.2424]), tensor([-0.1391,  0.3001, -0.0605,  ..., -0.4873, -0.2289,  0.2614]), tensor([-0.1556,  0.1242, -0.0238,  ..., -0.3749, -0.2597,  0.2490]), tensor([-0.1879,  0.1725, -0.0122,  ..., -0.3649, -0.3185,  0.2832]), tensor([-0.1635,  0.1255,  0.0358,  ..., -0.3924, -0.3174,  0.2107]), tensor([-0.1206,  0.2371,  0.0305,  ..., -0.4374, -0.3793,  0.1856]), tensor([-0.2209,  0.3601,  0.0490,  ..., -0.4100, -0.3660,  0.0480]), tensor([-0.1386,  0.3327,  0.0816,  ..., -0.4588, -0.4408,  0.1162]), tensor([-0.1222,  0.2862, -0.0777,  ..., -0.4748, -0.3873,  0.0974]), tensor([-0.1660,  0.2979, -0.0861,  ..., -0.5161, -0.4064,  0.0789]), tensor([-0.0903,  0.2799, -0.0976,  ..., -0.5006, -0.2960,  0.0269]), tensor([-0.0924,  0.2886, -0.1041,  ..., -0.4523, -0.4129, -0.0433]), tensor([-0.0537,  0.3087, -0.0863,  ..., -0.4596, -0.4204, -0.0397]), tensor([-0.1205,  0.2297, -0.1019,  ..., -0.4051, -0.2936, -0.0286])]\n"
     ]
    },
    {
     "name": "stderr",
     "output_type": "stream",
     "text": [
      "/var/folders/jj/d77tn1s96j9dgz5sx1cf0b500000gn/T/ipykernel_57786/3215556453.py:8: UserWarning: To copy construct from a tensor, it is recommended to use sourceTensor.clone().detach() or sourceTensor.clone().detach().requires_grad_(True), rather than torch.tensor(sourceTensor).\n",
      "  tensor_embeddings = [torch.tensor(emb) for emb in BP_data[year]]\n",
      "/var/folders/jj/d77tn1s96j9dgz5sx1cf0b500000gn/T/ipykernel_57786/1462058501.py:2: UserWarning: To copy construct from a tensor, it is recommended to use sourceTensor.clone().detach() or sourceTensor.clone().detach().requires_grad_(True), rather than torch.tensor(sourceTensor).\n",
      "  tensor_embeddings = [torch.tensor(emb) for emb in embeddings]\n"
     ]
    }
   ],
   "source": [
    "## Nyheter\n",
    "\n",
    "with open(\"data/BP_news_embeddings.pkl\",\"rb\") as file:\n",
    "    BP_data = pickle.load(file)\n",
    "\n",
    "BP_news = []\n",
    "for year in BP_data:\n",
    "    tensor_embeddings = [torch.tensor(emb) for emb in BP_data[year]]\n",
    "    mean = snitt2(tensor_embeddings)\n",
    "    BP_news.append(mean)\n",
    "BP_news.reverse()\n",
    "print(f\"BP ({len(BP_news)}): {BP_news}\")  ## 2010-2024"
   ]
  },
  {
   "cell_type": "markdown",
   "metadata": {},
   "source": [
    "### PetroChina"
   ]
  },
  {
   "cell_type": "code",
   "execution_count": 15,
   "metadata": {},
   "outputs": [
    {
     "name": "stdout",
     "output_type": "stream",
     "text": [
      "dict_keys(['2016', '2017', '2018', '2019', '2020', '2021', '2022', '2023'])\n",
      "PetroChina pdfs (8): [tensor([-0.2083,  0.4838, -0.1474,  ..., -0.7009, -0.0333,  0.2400]), tensor([-0.4084,  0.3596,  0.0521,  ..., -0.6551, -0.2543, -0.0885]), tensor([-0.3978,  0.3219,  0.0559,  ..., -0.6697, -0.3419, -0.0485]), tensor([-0.4384,  0.2202,  0.0331,  ..., -0.6693, -0.3840, -0.0593]), tensor([-0.3721,  0.2673, -0.0374,  ..., -0.6288, -0.3533, -0.0501]), tensor([-0.3476,  0.3528, -0.0742,  ..., -0.6549, -0.2783, -0.0427]), tensor([-0.3964,  0.2561,  0.0527,  ..., -0.6965, -0.4007, -0.0736]), tensor([-0.2849,  0.3116,  0.0181,  ..., -0.6572, -0.3741, -0.0310])]\n"
     ]
    },
    {
     "name": "stderr",
     "output_type": "stream",
     "text": [
      "/var/folders/jj/d77tn1s96j9dgz5sx1cf0b500000gn/T/ipykernel_57786/1462058501.py:2: UserWarning: To copy construct from a tensor, it is recommended to use sourceTensor.clone().detach() or sourceTensor.clone().detach().requires_grad_(True), rather than torch.tensor(sourceTensor).\n",
      "  tensor_embeddings = [torch.tensor(emb) for emb in embeddings]\n"
     ]
    }
   ],
   "source": [
    "with open(\"data/PetroChina_annual.pkl\",\"rb\") as file: \n",
    "    PetroChina_pdfs = pickle.load(file)\n",
    "\n",
    "print(PetroChina_pdfs.keys())\n",
    "\n",
    "PetroChina_annual = []\n",
    "for year in PetroChina_pdfs:\n",
    "    tensor_embeddings = [torch.tensor(emb) for emb in PetroChina_pdfs[year]]\n",
    "    mean = snitt2(tensor_embeddings)\n",
    "    PetroChina_annual.append(mean)\n",
    "#PetroChina_annual.reverse()\n",
    "\n",
    "print(f\"PetroChina pdfs ({len(PetroChina_annual)}): {PetroChina_annual}\")  ## 2016-2023"
   ]
  },
  {
   "cell_type": "markdown",
   "metadata": {},
   "source": [
    "### Valero Energy Corporation"
   ]
  },
  {
   "cell_type": "code",
   "execution_count": 16,
   "metadata": {},
   "outputs": [
    {
     "name": "stdout",
     "output_type": "stream",
     "text": [
      "Valero pdfs (21): [tensor([-0.1791,  0.3376,  0.0290,  ..., -0.3271, -0.1223,  0.0798]), tensor([-0.1810,  0.4418,  0.0362,  ..., -0.2865, -0.0862,  0.1513]), tensor([-0.0763, -0.1401, -0.1048,  ..., -0.1077, -0.1197,  0.0384]), tensor([-0.0260,  0.3169, -0.0264,  ..., -0.2818, -0.0259,  0.1241]), tensor([-0.0993,  0.4097, -0.0571,  ..., -0.3552, -0.0607,  0.1077]), tensor([-0.1119,  0.3679, -0.1460,  ..., -0.2845, -0.0095,  0.1159]), tensor([-0.1348,  0.3816, -0.1538,  ..., -0.3803, -0.0787,  0.0794]), tensor([-0.0766,  0.4424, -0.3135,  ..., -0.3433, -0.0526,  0.2025]), tensor([-0.1969,  0.4438, -0.3200,  ..., -0.2285,  0.0334,  0.1706]), tensor([-0.3191,  0.3194, -0.0389,  ..., -0.2488,  0.0026,  0.0632]), tensor([-0.3634,  0.3339,  0.0261,  ..., -0.3291,  0.0075,  0.1098]), tensor([-0.3339,  0.3011,  0.0232,  ..., -0.2547,  0.0417,  0.1008]), tensor([-0.3235,  0.3104, -0.0094,  ..., -0.1993,  0.0338,  0.0578]), tensor([-0.3020,  0.2698, -0.0146,  ..., -0.2287,  0.0180,  0.0469]), tensor([-0.3304,  0.2620, -0.0672,  ..., -0.2361,  0.0166,  0.0469]), tensor([-0.3291,  0.3154, -0.0360,  ..., -0.2582,  0.0009,  0.0438]), tensor([-0.3265,  0.2450, -0.0692,  ..., -0.2954, -0.0238,  0.0358]), tensor([-0.3504,  0.2141, -0.1033,  ..., -0.3079, -0.0340,  0.0269]), tensor([-0.3514,  0.2458, -0.1619,  ..., -0.3174,  0.0214,  0.0147]), tensor([-0.3153,  0.3161, -0.1260,  ..., -0.2940,  0.0893,  0.0161]), tensor([-0.3162,  0.3737, -0.1402,  ..., -0.2712,  0.0866, -0.0084])]\n"
     ]
    },
    {
     "name": "stderr",
     "output_type": "stream",
     "text": [
      "/var/folders/jj/d77tn1s96j9dgz5sx1cf0b500000gn/T/ipykernel_57786/1462058501.py:2: UserWarning: To copy construct from a tensor, it is recommended to use sourceTensor.clone().detach() or sourceTensor.clone().detach().requires_grad_(True), rather than torch.tensor(sourceTensor).\n",
      "  tensor_embeddings = [torch.tensor(emb) for emb in embeddings]\n"
     ]
    }
   ],
   "source": [
    "with open(\"data/Valero_annual.pkl\",\"rb\") as file: \n",
    "    Valero_pdfs = pickle.load(file)\n",
    "\n",
    "Valero_annual = []\n",
    "for year in Valero_pdfs:\n",
    "    tensor_embeddings = [torch.tensor(emb) for emb in Valero_pdfs[year]]\n",
    "    mean = snitt2(tensor_embeddings)\n",
    "    Valero_annual.append(mean)\n",
    "#Valero_annual.reverse()\n",
    "\n",
    "print(f\"Valero pdfs ({len(Valero_annual)}): {Valero_annual}\")  ## 2002-2022"
   ]
  },
  {
   "cell_type": "markdown",
   "metadata": {},
   "source": [
    "### Reliance Industries"
   ]
  },
  {
   "cell_type": "code",
   "execution_count": 17,
   "metadata": {},
   "outputs": [
    {
     "name": "stdout",
     "output_type": "stream",
     "text": [
      "dict_keys(['1985', '1986', '1988', '1989', '1990', '1991', '1992', '1993', '1994', '1995', '1996', '1997', '1998', '1999', '2000', '2001', '2002', '2003', '2004', '2005', '2006', '2007', '2008', '2009', '2010', '2011', '2012', '2013', '2014', '2015', '2016', '2017', '2018', '2019', '2020', '2021', '2022', '2023'])\n",
      "RelianceIndustries pdfs (36): [tensor([-0.4073,  0.0853,  0.0329,  ..., -0.2900, -0.0300, -0.1771]), tensor([-0.4348,  0.0224,  0.0273,  ..., -0.3317, -0.0879, -0.1679]), tensor([-4.1258e-01,  9.6817e-02,  2.5947e-02,  ..., -2.5862e-01,\n",
      "         2.8300e-06, -1.0481e-01]), tensor([-0.4244,  0.1082, -0.0070,  ..., -0.3210, -0.0522, -0.1892]), tensor([-0.3394,  0.1705,  0.0061,  ..., -0.3429, -0.0965, -0.1757]), tensor([-0.2384,  0.0926,  0.0186,  ..., -0.3862, -0.0800, -0.1956]), tensor([-0.2362,  0.2312, -0.0293,  ..., -0.2850, -0.0328, -0.1859]), tensor([-0.3905,  0.3235, -0.0811,  ..., -0.2829,  0.0288, -0.2147]), tensor([-0.4935,  0.3022, -0.1193,  ..., -0.3349,  0.0738, -0.1551]), tensor([-0.5953,  0.4729, -0.0973,  ..., -0.3785,  0.0219, -0.2487]), tensor([-0.4317,  0.4467, -0.1696,  ..., -0.3116,  0.0188, -0.1160]), tensor([-0.4382,  0.3115, -0.1744,  ..., -0.2918, -0.0875, -0.1579]), tensor([-0.2972,  0.1021, -0.1169,  ..., -0.4387, -0.1125, -0.2578]), tensor([-0.2843,  0.2493, -0.0483,  ..., -0.2923, -0.0355, -0.1516]), tensor([-0.3778,  0.2132, -0.1722,  ..., -0.3132,  0.0494, -0.1365]), tensor([-0.3602,  0.1820, -0.1578,  ..., -0.4498,  0.0318, -0.1509]), tensor([-0.4087,  0.3101, -0.1639,  ..., -0.3564, -0.0072, -0.1112]), tensor([-3.6429e-01,  2.0115e-01, -1.4877e-01,  ..., -4.1461e-01,\n",
      "         2.2664e-04, -1.6570e-01]), tensor([-0.2642,  0.2277, -0.0661,  ..., -0.4270,  0.0497, -0.1137]), tensor([-0.2936,  0.3159, -0.1614,  ..., -0.5134, -0.0363, -0.0820]), tensor([-0.3595,  0.3119, -0.1477,  ..., -0.4894, -0.0098, -0.1275]), tensor([-0.3360,  0.3158, -0.1289,  ..., -0.4265,  0.0085, -0.1158]), tensor([-0.2892,  0.3719, -0.0801,  ..., -0.4016, -0.0374, -0.0613]), tensor([-0.1494, -0.2163,  0.0395,  ..., -0.4266, -0.1752, -0.2036]), tensor([-0.6244,  0.3251, -0.4672,  ..., -0.4174,  0.3215, -0.2015]), tensor([-0.4368,  0.2863, -0.6246,  ..., -0.5347,  0.0910,  0.1771]), tensor([-0.3138,  0.0423, -0.1671,  ..., -0.4197, -0.0584, -0.0772]), tensor([-0.2920,  0.1784, -0.3502,  ..., -0.4367,  0.0438,  0.0536]), tensor([-0.3210,  0.1220, -0.2812,  ..., -0.3311,  0.0271,  0.0705]), tensor([-0.3948,  0.2109, -0.2710,  ..., -0.3484,  0.0212,  0.0653]), tensor([-0.3158,  0.2475, -0.3414,  ..., -0.4497,  0.0485,  0.0760]), tensor([-0.4042,  0.1840, -0.3448,  ..., -0.3826, -0.0294,  0.1229]), tensor([-0.4110,  0.2116, -0.3810,  ..., -0.3671, -0.0778,  0.0357]), tensor([-0.3486,  0.3108, -0.5039,  ..., -0.4243,  0.0033,  0.0725]), tensor([-0.3842,  0.3037, -0.3856,  ..., -0.3756,  0.0189,  0.0671]), tensor([-0.3651,  0.2886, -0.4334,  ..., -0.3945,  0.0213,  0.1885])]\n"
     ]
    },
    {
     "name": "stderr",
     "output_type": "stream",
     "text": [
      "/var/folders/jj/d77tn1s96j9dgz5sx1cf0b500000gn/T/ipykernel_57786/1462058501.py:2: UserWarning: To copy construct from a tensor, it is recommended to use sourceTensor.clone().detach() or sourceTensor.clone().detach().requires_grad_(True), rather than torch.tensor(sourceTensor).\n",
      "  tensor_embeddings = [torch.tensor(emb) for emb in embeddings]\n"
     ]
    }
   ],
   "source": [
    "with open(\"data/RelianceIndustries_annual.pkl\",\"rb\") as file: \n",
    "    RelianceIndustries_pdfs = pickle.load(file)\n",
    "\n",
    "print(RelianceIndustries_pdfs.keys())\n",
    "\n",
    "RelianceIndustries_annual = []\n",
    "for year in RelianceIndustries_pdfs:\n",
    "    tensor_embeddings = [torch.tensor(emb) for emb in RelianceIndustries_pdfs[year]]\n",
    "    mean = snitt2(tensor_embeddings)\n",
    "    RelianceIndustries_annual.append(mean)\n",
    "RelianceIndustries_annual = RelianceIndustries_annual[2:]\n",
    "\n",
    "print(f\"RelianceIndustries pdfs ({len(RelianceIndustries_annual)}): {RelianceIndustries_annual}\")  ## 1988-2023"
   ]
  },
  {
   "cell_type": "markdown",
   "metadata": {},
   "source": [
    "### CNOOC"
   ]
  },
  {
   "cell_type": "code",
   "execution_count": 18,
   "metadata": {},
   "outputs": [
    {
     "name": "stdout",
     "output_type": "stream",
     "text": [
      "dict_keys(['2015', '2016', '2017', '2018', '2019', '2020', '2021', '2022', '2023'])\n",
      "CNOOC pdfs (9): [tensor([-0.1767, -0.0087, -0.0069,  ..., -0.5226, -0.1660,  0.0119]), tensor([-0.1891, -0.0241, -0.0273,  ..., -0.5392, -0.1926, -0.0096]), tensor([-1.8506e-01,  1.8037e-02, -5.1190e-02,  ..., -5.7887e-01,\n",
      "        -1.9730e-01,  5.4809e-04]), tensor([-0.2110,  0.0037, -0.0475,  ..., -0.5902, -0.1994, -0.0114]), tensor([-0.2130, -0.0239, -0.0147,  ..., -0.5866, -0.2369, -0.0328]), tensor([-0.2125,  0.0079, -0.0622,  ..., -0.6238, -0.2165, -0.0204]), tensor([-0.2474,  0.0441, -0.1005,  ..., -0.5959, -0.1953,  0.0158]), tensor([-0.2469,  0.0239, -0.0445,  ..., -0.6181, -0.2248, -0.0105]), tensor([-0.2424,  0.0490, -0.0653,  ..., -0.6107, -0.2224,  0.0025])]\n"
     ]
    },
    {
     "name": "stderr",
     "output_type": "stream",
     "text": [
      "/var/folders/jj/d77tn1s96j9dgz5sx1cf0b500000gn/T/ipykernel_57786/1462058501.py:2: UserWarning: To copy construct from a tensor, it is recommended to use sourceTensor.clone().detach() or sourceTensor.clone().detach().requires_grad_(True), rather than torch.tensor(sourceTensor).\n",
      "  tensor_embeddings = [torch.tensor(emb) for emb in embeddings]\n"
     ]
    }
   ],
   "source": [
    "with open(\"data/CNOOC_annual2.pkl\",\"rb\") as file: \n",
    "    CNOOC_pdfs = pickle.load(file)\n",
    "\n",
    "print(CNOOC_pdfs.keys())\n",
    "\n",
    "CNOOC_annual = []\n",
    "for year in CNOOC_pdfs:\n",
    "    tensor_embeddings = [torch.tensor(emb) for emb in CNOOC_pdfs[year]]\n",
    "    mean = snitt2(tensor_embeddings)\n",
    "    CNOOC_annual.append(mean)\n",
    "\n",
    "print(f\"CNOOC pdfs ({len(CNOOC_annual)}): {CNOOC_annual}\")  ## 2015-2023"
   ]
  },
  {
   "cell_type": "markdown",
   "metadata": {},
   "source": [
    "### ConocoPhillips"
   ]
  },
  {
   "cell_type": "code",
   "execution_count": 19,
   "metadata": {},
   "outputs": [
    {
     "name": "stdout",
     "output_type": "stream",
     "text": [
      "dict_keys(['2005', '2006', '2007', '2008', '2009', '2010', '2011', '2012', '2013', '2014', '2015', '2016', '2017', '2018', '2019', '2020', '2021', '2022', '2023'])\n",
      "conocophillips pdfs (19): [tensor([-0.0178,  0.6208, -0.1759,  ..., -0.5987,  0.0554,  0.1364]), tensor([-0.0626,  0.4722, -0.1257,  ..., -0.5783,  0.1185,  0.1173]), tensor([-0.0944, -0.6716, -0.1207,  ...,  0.0484, -0.1290, -0.0287]), tensor([-0.0987, -0.5162, -0.1495,  ..., -0.0210, -0.0944,  0.0165]), tensor([ 0.0364,  0.5698, -0.3936,  ..., -0.6724,  0.1064,  0.1341]), tensor([-0.2809,  0.2786,  0.0327,  ..., -0.2289, -0.0040,  0.0636]), tensor([-0.0409,  0.6014, -0.4810,  ..., -0.6810,  0.0941,  0.2028]), tensor([ 0.0405,  0.4907, -0.5094,  ..., -0.6733,  0.1089,  0.1696]), tensor([ 0.0826,  0.4211, -0.4004,  ..., -0.6799, -0.0171,  0.2715]), tensor([ 0.0523,  0.2938, -0.2745,  ..., -0.5812, -0.0466,  0.1416]), tensor([ 0.0688,  0.2765, -0.1981,  ..., -0.5571, -0.1097,  0.0437]), tensor([-0.0232,  0.4328, -0.2052,  ..., -0.4818, -0.1478,  0.0579]), tensor([-0.0144,  0.4683, -0.2122,  ..., -0.5458, -0.1053,  0.0340]), tensor([-0.0320,  0.4125, -0.1708,  ..., -0.5474, -0.1773, -0.0174]), tensor([-0.0665,  0.3853, -0.1787,  ..., -0.5472, -0.1791,  0.0276]), tensor([-0.0231,  0.2827, -0.2589,  ..., -0.5839, -0.1779, -0.0048]), tensor([-0.0269,  0.5738, -0.3424,  ..., -0.7833, -0.0577,  0.0483]), tensor([-0.0091,  0.5228, -0.2452,  ..., -0.7629, -0.0594,  0.0428]), tensor([ 0.1429,  0.3127, -0.2493,  ..., -0.4899, -0.3449,  0.0569])]\n"
     ]
    },
    {
     "name": "stderr",
     "output_type": "stream",
     "text": [
      "/var/folders/jj/d77tn1s96j9dgz5sx1cf0b500000gn/T/ipykernel_57786/1225914597.py:8: UserWarning: To copy construct from a tensor, it is recommended to use sourceTensor.clone().detach() or sourceTensor.clone().detach().requires_grad_(True), rather than torch.tensor(sourceTensor).\n",
      "  tensor_embeddings = [torch.tensor(emb) for emb in conocophillips_pdfs[year]]\n",
      "/var/folders/jj/d77tn1s96j9dgz5sx1cf0b500000gn/T/ipykernel_57786/1462058501.py:2: UserWarning: To copy construct from a tensor, it is recommended to use sourceTensor.clone().detach() or sourceTensor.clone().detach().requires_grad_(True), rather than torch.tensor(sourceTensor).\n",
      "  tensor_embeddings = [torch.tensor(emb) for emb in embeddings]\n"
     ]
    }
   ],
   "source": [
    "with open(\"data/conocophillips_annual.pkl\",\"rb\") as file: \n",
    "    conocophillips_pdfs = pickle.load(file)\n",
    "\n",
    "print(conocophillips_pdfs.keys())\n",
    "\n",
    "conocophillips_annual = []\n",
    "for year in conocophillips_pdfs:\n",
    "    tensor_embeddings = [torch.tensor(emb) for emb in conocophillips_pdfs[year]]\n",
    "    mean = snitt2(tensor_embeddings)\n",
    "    conocophillips_annual.append(mean)\n",
    "\n",
    "print(f\"conocophillips pdfs ({len(conocophillips_annual)}): {conocophillips_annual}\")  ## 2005-2023"
   ]
  },
  {
   "cell_type": "markdown",
   "metadata": {},
   "source": [
    "### Enbridge"
   ]
  },
  {
   "cell_type": "code",
   "execution_count": 20,
   "metadata": {},
   "outputs": [
    {
     "name": "stdout",
     "output_type": "stream",
     "text": [
      "dict_keys(['2011', '2012', '2013', '2014', '2015', '2016', '2017', '2018', '2019', '2020', '2021', '2022', '2023'])\n",
      "Enbridge pdfs (13): [tensor([-0.2536,  0.4414, -0.4092,  ..., -0.4111,  0.2736,  0.0661]), tensor([-0.2657,  0.4615, -0.3113,  ..., -0.6026,  0.1136,  0.0685]), tensor([-0.2119,  0.4179, -0.3716,  ..., -0.6040,  0.0864,  0.1022]), tensor([-0.1579,  0.5145, -0.3548,  ..., -0.6024,  0.0947,  0.1046]), tensor([-0.1450,  0.4551, -0.3109,  ..., -0.5717,  0.0705,  0.1107]), tensor([-0.2172,  0.4758, -0.3130,  ..., -0.5514,  0.0291,  0.0898]), tensor([-0.1860,  0.3829, -0.2544,  ..., -0.4889,  0.0705,  0.0915]), tensor([-0.1932,  0.3274, -0.2478,  ..., -0.4675,  0.0080,  0.0680]), tensor([-0.2081,  0.3250, -0.2770,  ..., -0.5076, -0.0232,  0.0265]), tensor([-0.1976,  0.3657, -0.3489,  ..., -0.4800,  0.0016,  0.0354]), tensor([-0.2106,  0.3759, -0.3418,  ..., -0.4835,  0.0160,  0.0271]), tensor([-0.2303,  0.3469, -0.2856,  ..., -0.4998, -0.0145,  0.0141]), tensor([-0.2256,  0.3594, -0.2868,  ..., -0.4879, -0.0054,  0.0201])]\n"
     ]
    },
    {
     "name": "stderr",
     "output_type": "stream",
     "text": [
      "/var/folders/jj/d77tn1s96j9dgz5sx1cf0b500000gn/T/ipykernel_57786/157812731.py:8: UserWarning: To copy construct from a tensor, it is recommended to use sourceTensor.clone().detach() or sourceTensor.clone().detach().requires_grad_(True), rather than torch.tensor(sourceTensor).\n",
      "  tensor_embeddings = [torch.tensor(emb) for emb in enbridge_pdfs[year]]\n",
      "/var/folders/jj/d77tn1s96j9dgz5sx1cf0b500000gn/T/ipykernel_57786/1462058501.py:2: UserWarning: To copy construct from a tensor, it is recommended to use sourceTensor.clone().detach() or sourceTensor.clone().detach().requires_grad_(True), rather than torch.tensor(sourceTensor).\n",
      "  tensor_embeddings = [torch.tensor(emb) for emb in embeddings]\n"
     ]
    }
   ],
   "source": [
    "with open(\"data/enbridge_annual.pkl\",\"rb\") as file: \n",
    "    enbridge_pdfs = pickle.load(file)\n",
    "\n",
    "print(enbridge_pdfs.keys())\n",
    "\n",
    "enbridge_annual = []\n",
    "for year in enbridge_pdfs:\n",
    "    tensor_embeddings = [torch.tensor(emb) for emb in enbridge_pdfs[year]]\n",
    "    mean = snitt2(tensor_embeddings)\n",
    "    enbridge_annual.append(mean)\n",
    "\n",
    "print(f\"Enbridge pdfs ({len(enbridge_annual)}): {enbridge_annual}\")  ## 2011-2023"
   ]
  },
  {
   "cell_type": "markdown",
   "metadata": {},
   "source": [
    "### EOG"
   ]
  },
  {
   "cell_type": "code",
   "execution_count": 21,
   "metadata": {},
   "outputs": [
    {
     "name": "stdout",
     "output_type": "stream",
     "text": [
      "dict_keys(['1999', '2000', '2001', '2002', '2003', '2004', '2005', '2006', '2007', '2008', '2009', '2010', '2011', '2012', '2013', '2014', '2015', '2016', '2017', '2018', '2019', '2020', '2021', '2022', '2023'])\n",
      "EOG pdfs (25): [tensor([-0.1188,  0.3368, -0.0614,  ..., -0.4735, -0.0799, -0.0569]), tensor([-0.0365,  0.3421, -0.1620,  ..., -0.5862, -0.0616, -0.0268]), tensor([-0.0924,  0.2844, -0.1883,  ..., -0.4481, -0.0357, -0.0312]), tensor([-0.0817, -0.6290, -0.1342,  ...,  0.0252, -0.1387, -0.0467]), tensor([-8.8970e-02, -6.0397e-01, -1.4668e-01,  ..., -2.2017e-04,\n",
      "        -1.3076e-01, -3.2832e-02]), tensor([-0.0889, -0.5742, -0.1446,  ..., -0.0184, -0.1245, -0.0338]), tensor([-0.0759, -0.6689, -0.1503,  ...,  0.0342, -0.1288, -0.0336]), tensor([-0.0793, -0.6521, -0.1484,  ...,  0.0263, -0.1187, -0.0306]), tensor([-0.0693, -0.3020, -0.1503,  ..., -0.2124, -0.0616,  0.0203]), tensor([-0.0669, -0.1260, -0.1764,  ..., -0.2720, -0.0815,  0.0428]), tensor([-0.0743,  0.4749, -0.1938,  ..., -0.5931, -0.0688,  0.1254]), tensor([-0.0576, -0.0899, -0.2023,  ..., -0.3147, -0.0613,  0.0339]), tensor([-0.0614, -0.3018, -0.1894,  ..., -0.1994, -0.0824,  0.0176]), tensor([-0.1018, -0.3038, -0.1574,  ..., -0.2044, -0.0635,  0.0328]), tensor([-0.0887, -0.3251, -0.1577,  ..., -0.1727, -0.0763,  0.0397]), tensor([-0.0729, -0.3881, -0.1658,  ..., -0.1370, -0.1056,  0.0178]), tensor([-0.0807,  0.2920, -0.1728,  ..., -0.4905, -0.0377,  0.1318]), tensor([-0.0867,  0.3383, -0.1962,  ..., -0.5251, -0.0777,  0.1138]), tensor([-0.1094,  0.3439, -0.2062,  ..., -0.5373, -0.0772,  0.0899]), tensor([-0.1193,  0.3389, -0.2132,  ..., -0.5538, -0.0915,  0.0939]), tensor([-0.1019,  0.3331, -0.2332,  ..., -0.5814, -0.0977,  0.0829]), tensor([-0.0474,  0.2750, -0.2133,  ..., -0.5837, -0.1464,  0.0404]), tensor([-0.0599,  0.3093, -0.2623,  ..., -0.5338, -0.1230,  0.0511]), tensor([-0.0555,  0.3241, -0.2212,  ..., -0.5480, -0.1357,  0.0283]), tensor([-0.0488,  0.3293, -0.2208,  ..., -0.5298, -0.1239,  0.0392])]\n"
     ]
    },
    {
     "name": "stderr",
     "output_type": "stream",
     "text": [
      "/var/folders/jj/d77tn1s96j9dgz5sx1cf0b500000gn/T/ipykernel_57786/2648176312.py:8: UserWarning: To copy construct from a tensor, it is recommended to use sourceTensor.clone().detach() or sourceTensor.clone().detach().requires_grad_(True), rather than torch.tensor(sourceTensor).\n",
      "  tensor_embeddings = [torch.tensor(emb) for emb in eog_resources_pdfs[year]]\n",
      "/var/folders/jj/d77tn1s96j9dgz5sx1cf0b500000gn/T/ipykernel_57786/1462058501.py:2: UserWarning: To copy construct from a tensor, it is recommended to use sourceTensor.clone().detach() or sourceTensor.clone().detach().requires_grad_(True), rather than torch.tensor(sourceTensor).\n",
      "  tensor_embeddings = [torch.tensor(emb) for emb in embeddings]\n"
     ]
    }
   ],
   "source": [
    "with open(\"data/eog_resources.pkl\",\"rb\") as file: \n",
    "    eog_resources_pdfs = pickle.load(file)\n",
    "    \n",
    "print(eog_resources_pdfs.keys())\n",
    "\n",
    "eog_resources_annual = []\n",
    "for year in eog_resources_pdfs:\n",
    "    tensor_embeddings = [torch.tensor(emb) for emb in eog_resources_pdfs[year]]\n",
    "    mean = snitt2(tensor_embeddings)\n",
    "    eog_resources_annual.append(mean)\n",
    "\n",
    "print(f\"EOG pdfs ({len(eog_resources_annual)}): {eog_resources_annual}\")  ## 1999-2023"
   ]
  },
  {
   "cell_type": "markdown",
   "metadata": {},
   "source": [
    "### Marathon"
   ]
  },
  {
   "cell_type": "code",
   "execution_count": 22,
   "metadata": {},
   "outputs": [
    {
     "name": "stdout",
     "output_type": "stream",
     "text": [
      "dict_keys(['2011', '2012', '2013', '2014', '2015', '2016', '2017', '2018', '2019', '2020', '2021', '2022', '2023'])\n",
      "Marathon pdfs (13): [tensor([-0.1767,  0.2324, -0.1613,  ..., -0.3592,  0.0394, -0.0043]), tensor([-0.2364,  0.2351, -0.0738,  ..., -0.3719,  0.0466,  0.0262]), tensor([-0.2163,  0.2244, -0.0937,  ..., -0.3422,  0.0192,  0.0297]), tensor([-0.2147,  0.2712, -0.0646,  ..., -0.3484,  0.0054,  0.0151]), tensor([-0.1551,  0.2459, -0.0740,  ..., -0.4082, -0.0197,  0.0310]), tensor([-0.1647,  0.2671, -0.0828,  ..., -0.3977, -0.0119,  0.0302]), tensor([-0.1891,  0.2550, -0.0824,  ..., -0.3876, -0.0204, -0.0026]), tensor([-0.1804,  0.1660, -0.0800,  ..., -0.3850, -0.0346, -0.0461]), tensor([-0.1957,  0.1990, -0.1009,  ..., -0.3826, -0.0510, -0.0382]), tensor([-0.2353,  0.2410, -0.1336,  ..., -0.3811, -0.0147, -0.0047]), tensor([-0.2234,  0.2696, -0.1650,  ..., -0.3784, -0.0208,  0.0062]), tensor([-0.2053,  0.2896, -0.1808,  ..., -0.4343, -0.0104, -0.0010]), tensor([-0.1824,  0.2694, -0.1986,  ..., -0.4177, -0.0144,  0.0099])]\n"
     ]
    },
    {
     "name": "stderr",
     "output_type": "stream",
     "text": [
      "/var/folders/jj/d77tn1s96j9dgz5sx1cf0b500000gn/T/ipykernel_57786/1733092389.py:8: UserWarning: To copy construct from a tensor, it is recommended to use sourceTensor.clone().detach() or sourceTensor.clone().detach().requires_grad_(True), rather than torch.tensor(sourceTensor).\n",
      "  tensor_embeddings = [torch.tensor(emb) for emb in marathon_pdfs[year]]\n",
      "/var/folders/jj/d77tn1s96j9dgz5sx1cf0b500000gn/T/ipykernel_57786/1462058501.py:2: UserWarning: To copy construct from a tensor, it is recommended to use sourceTensor.clone().detach() or sourceTensor.clone().detach().requires_grad_(True), rather than torch.tensor(sourceTensor).\n",
      "  tensor_embeddings = [torch.tensor(emb) for emb in embeddings]\n"
     ]
    }
   ],
   "source": [
    "with open(\"data/marathon_annual.pkl\",\"rb\") as file: \n",
    "    marathon_pdfs = pickle.load(file)\n",
    "\n",
    "print(marathon_pdfs.keys())\n",
    "\n",
    "marathon_annual = []\n",
    "for year in marathon_pdfs:\n",
    "    tensor_embeddings = [torch.tensor(emb) for emb in marathon_pdfs[year]]\n",
    "    mean = snitt2(tensor_embeddings)\n",
    "    marathon_annual.append(mean)\n",
    "\n",
    "print(f\"Marathon pdfs ({len(marathon_annual)}): {marathon_annual}\")  ## 2011-2023"
   ]
  },
  {
   "cell_type": "markdown",
   "metadata": {},
   "source": [
    "### Equinor (ferdig)"
   ]
  },
  {
   "cell_type": "code",
   "execution_count": 23,
   "metadata": {},
   "outputs": [
    {
     "name": "stdout",
     "output_type": "stream",
     "text": [
      "dict_keys([2023, 2022, 2021, 2020, 2019, 2018, 2017, 2016, 2015, 2014, 2013, 2012, 2011, 2010, 2009, 2008, 2007, 2006, 2005, 2004, 2003, 2002, 2001, 2000, 1999])\n",
      "Equinor pdfs (25): [tensor([-0.1062,  0.4533, -0.1082,  ..., -0.6821, -0.0672,  0.2173]), tensor([-0.1138,  0.5336, -0.1884,  ..., -0.5507, -0.0912,  0.1468]), tensor([-0.1274,  0.4955, -0.1362,  ..., -0.6382, -0.1255,  0.2079]), tensor([-0.1606,  0.4818, -0.1941,  ..., -0.6436, -0.0498,  0.2228]), tensor([-0.1213,  0.5655, -0.2023,  ..., -0.6556, -0.0689,  0.2560]), tensor([-0.0823,  0.5951, -0.2356,  ..., -0.6488, -0.0407,  0.2196]), tensor([-0.0729,  0.5509, -0.2185,  ..., -0.6522, -0.0173,  0.2274]), tensor([-0.1574,  0.5029, -0.1943,  ..., -0.7982,  0.0262,  0.1938]), tensor([-0.1358,  0.5242, -0.2903,  ..., -0.7048, -0.0320,  0.2052]), tensor([-0.1405,  0.5391, -0.2918,  ..., -0.6326, -0.0607,  0.2593]), tensor([-0.1437,  0.5415, -0.3125,  ..., -0.6945, -0.0647,  0.2874]), tensor([-0.0985,  0.5276, -0.3087,  ..., -0.6899, -0.0666,  0.3265]), tensor([-0.1791,  0.5173, -0.2332,  ..., -0.7217, -0.0128,  0.2710]), tensor([-0.1864,  0.4944, -0.1953,  ..., -0.6737, -0.0373,  0.2763]), tensor([ 0.5343,  0.1720,  0.3373,  ..., -0.4143, -0.5902, -0.2041]), tensor([-0.1790,  0.5448, -0.1588,  ..., -0.6537, -0.0813,  0.2883]), tensor([-0.1751,  0.5736, -0.2132,  ..., -0.6319, -0.0433,  0.2584]), tensor([-0.1026,  0.5090, -0.1546,  ..., -0.5862, -0.0028,  0.1995]), tensor([-0.1236,  0.4727, -0.1475,  ..., -0.5262, -0.0255,  0.1840]), tensor([-0.1022,  0.4423, -0.2484,  ..., -0.5843, -0.0210,  0.1819]), tensor([-0.0906,  0.4803, -0.2942,  ..., -0.5452,  0.0647,  0.2049]), tensor([-0.2014,  0.2028, -0.0504,  ..., -0.2829, -0.0015,  0.0848]), tensor([-0.1001,  0.4471, -0.3344,  ..., -0.5140,  0.0389,  0.1865]), tensor([-0.1584,  0.1758,  0.0007,  ..., -0.3254, -0.0187,  0.0997]), tensor([-0.0741,  0.3838, -0.3672,  ..., -0.5070,  0.0292,  0.1980])]\n"
     ]
    },
    {
     "name": "stderr",
     "output_type": "stream",
     "text": [
      "/var/folders/jj/d77tn1s96j9dgz5sx1cf0b500000gn/T/ipykernel_57786/1462058501.py:2: UserWarning: To copy construct from a tensor, it is recommended to use sourceTensor.clone().detach() or sourceTensor.clone().detach().requires_grad_(True), rather than torch.tensor(sourceTensor).\n",
      "  tensor_embeddings = [torch.tensor(emb) for emb in embeddings]\n"
     ]
    }
   ],
   "source": [
    "## Årsrapporter\n",
    "\n",
    "with open(\"data/equinor_annual.pkl\",\"rb\") as file:\n",
    "    equinor_pdfs = pickle.load(file)\n",
    "\n",
    "print(equinor_pdfs.keys())\n",
    "\n",
    "equinor_annual = []\n",
    "for year in equinor_pdfs:\n",
    "    tensor_embeddings = [torch.tensor(emb) for emb in equinor_pdfs[year]]\n",
    "    mean = snitt2(tensor_embeddings)\n",
    "    equinor_annual.append(mean)\n",
    "equinor_annual.reverse()\n",
    "\n",
    "print(f\"Equinor pdfs ({len(equinor_annual)}): {equinor_annual}\")  ## 1999-2023"
   ]
  },
  {
   "cell_type": "code",
   "execution_count": 24,
   "metadata": {},
   "outputs": [
    {
     "name": "stdout",
     "output_type": "stream",
     "text": [
      "dict_keys(['1998', '1999', '2000', '2001', '2002', '2003', '2004', '2005', '2006', '2007', '2008', '2009', '2010', '2011', '2012', '2013', '2014', '2015', '2016', '2017', '2018', '2019', '2020', '2021', '2022', '2023', '2024'])\n",
      "Equinor news (27): [tensor([ 0.0069,  0.5014, -0.1360,  ..., -0.7030, -0.2611,  0.3027]), tensor([ 0.0693,  0.4917, -0.0764,  ..., -0.7579, -0.2302,  0.2760]), tensor([ 0.0293,  0.5073, -0.0462,  ..., -0.7679, -0.2541,  0.2723]), tensor([ 0.0405,  0.4672, -0.0935,  ..., -0.7549, -0.1758,  0.2891]), tensor([ 0.0523,  0.4806,  0.0147,  ..., -0.6645, -0.2273,  0.3181]), tensor([ 0.0997,  0.4316,  0.0012,  ..., -0.7622, -0.2855,  0.3526]), tensor([ 0.0386,  0.5925, -0.1093,  ..., -0.8265, -0.2617,  0.3212]), tensor([ 0.0207,  0.5362, -0.0831,  ..., -0.7259, -0.1994,  0.3137]), tensor([ 0.0900,  0.4761, -0.0175,  ..., -0.6810, -0.2584,  0.2394]), tensor([-0.0685,  0.5817, -0.0278,  ..., -0.7223, -0.1448,  0.1565]), tensor([-0.0565,  0.5099, -0.0510,  ..., -0.7410, -0.2875,  0.2076]), tensor([ 0.0500,  0.5965, -0.0700,  ..., -0.7126, -0.2565,  0.1990]), tensor([ 0.0378,  0.3931,  0.0185,  ..., -0.5183, -0.2368,  0.1943]), tensor([ 0.1322,  0.5245, -0.0475,  ..., -0.6191, -0.2101,  0.2808]), tensor([ 0.0467,  0.5298, -0.1000,  ..., -0.7457, -0.1508,  0.3709]), tensor([ 0.0402,  0.4931, -0.0600,  ..., -0.7135, -0.2578,  0.3971]), tensor([ 0.0717,  0.5474, -0.1212,  ..., -0.6778, -0.2555,  0.3515]), tensor([ 0.0507,  0.3789, -0.1089,  ..., -0.6709, -0.2509,  0.3594]), tensor([ 0.0375,  0.4942, -0.1246,  ..., -0.5631, -0.3375,  0.3322]), tensor([-0.0023,  0.6345, -0.1348,  ..., -0.5339, -0.3420,  0.3557]), tensor([ 0.2491,  0.4282, -0.0961,  ..., -0.5898, -0.1641,  0.1990]), tensor([ 0.2770,  0.4426, -0.0273,  ..., -0.5320, -0.1878,  0.1584]), tensor([ 0.2101,  0.4108, -0.1277,  ..., -0.5859, -0.1338,  0.1496]), tensor([ 0.2047,  0.4598, -0.1277,  ..., -0.4527, -0.0629,  0.1699]), tensor([ 0.1251,  0.5317, -0.2419,  ..., -0.6033, -0.1387,  0.1796]), tensor([ 0.3067,  0.6013, -0.0947,  ..., -0.4807, -0.2169,  0.2007]), tensor([ 0.2312,  0.4303, -0.2479,  ..., -0.4906, -0.1420,  0.0488])]\n"
     ]
    },
    {
     "name": "stderr",
     "output_type": "stream",
     "text": [
      "/var/folders/jj/d77tn1s96j9dgz5sx1cf0b500000gn/T/ipykernel_57786/3632307413.py:10: UserWarning: To copy construct from a tensor, it is recommended to use sourceTensor.clone().detach() or sourceTensor.clone().detach().requires_grad_(True), rather than torch.tensor(sourceTensor).\n",
      "  tensor_embeddings = [torch.tensor(emb) for emb in equinor_data[year]]\n",
      "/var/folders/jj/d77tn1s96j9dgz5sx1cf0b500000gn/T/ipykernel_57786/1462058501.py:2: UserWarning: To copy construct from a tensor, it is recommended to use sourceTensor.clone().detach() or sourceTensor.clone().detach().requires_grad_(True), rather than torch.tensor(sourceTensor).\n",
      "  tensor_embeddings = [torch.tensor(emb) for emb in embeddings]\n"
     ]
    }
   ],
   "source": [
    "## Nyheter\n",
    "\n",
    "with open(\"data/equinor_news_embeddings.pkl\",\"rb\") as file:\n",
    "    equinor_data = pickle.load(file)\n",
    "\n",
    "print(equinor_data.keys())\n",
    "\n",
    "equinor_news = []\n",
    "for year in equinor_data:\n",
    "    tensor_embeddings = [torch.tensor(emb) for emb in equinor_data[year]]\n",
    "    mean = snitt2(tensor_embeddings)\n",
    "    equinor_news.append(mean)\n",
    "\n",
    "print(f\"Equinor news ({len(equinor_news)}): {equinor_news}\")  ## 1998-2024"
   ]
  },
  {
   "cell_type": "markdown",
   "metadata": {},
   "source": [
    "### Shell (ferdig)"
   ]
  },
  {
   "cell_type": "code",
   "execution_count": 143,
   "metadata": {},
   "outputs": [
    {
     "name": "stdout",
     "output_type": "stream",
     "text": [
      "dict_keys([2011, 2012, 2013, 2014, 2015, 2016, 2017, 2018, 2019, 2020, 2021, 2022, 2023, 2024])\n",
      "Shell news (14): [tensor([-0.0252,  0.7205,  0.0107,  ..., -0.6689,  0.4054, -0.0998]), tensor([-0.0426,  0.6390,  0.0401,  ..., -0.7329,  0.0362,  0.0230]), tensor([-0.1559,  0.7461,  0.0149,  ..., -0.7544,  0.1774,  0.2286]), tensor([-0.0631,  0.4107,  0.0625,  ..., -0.5318, -0.0874,  0.1448]), tensor([-0.0051,  0.4326,  0.1666,  ..., -0.5367, -0.0899,  0.0189]), tensor([-0.0495,  0.5298,  0.1099,  ..., -0.6232, -0.1647, -0.0281]), tensor([-0.1268,  0.6050,  0.0708,  ..., -0.6216, -0.0734,  0.0219]), tensor([-0.2085,  0.7292,  0.0983,  ..., -0.6756, -0.0718,  0.0423]), tensor([-0.2721,  0.4962,  0.0322,  ..., -0.8156, -0.1548, -0.0822]), tensor([-0.2094,  0.4926, -0.0785,  ..., -0.7746, -0.1683, -0.2889]), tensor([-0.3041,  0.5674,  0.0374,  ..., -0.8024, -0.0191, -0.2205]), tensor([-0.4275,  0.5485,  0.0893,  ..., -0.9028, -0.0995, -0.2548]), tensor([-0.3148,  0.4878,  0.0404,  ..., -0.9370, -0.1371, -0.3375]), tensor([-0.3467,  0.4924,  0.0227,  ..., -0.8307,  0.0035, -0.4943])]\n"
     ]
    },
    {
     "name": "stderr",
     "output_type": "stream",
     "text": [
      "/var/folders/jj/d77tn1s96j9dgz5sx1cf0b500000gn/T/ipykernel_57786/1267315779.py:10: UserWarning: To copy construct from a tensor, it is recommended to use sourceTensor.clone().detach() or sourceTensor.clone().detach().requires_grad_(True), rather than torch.tensor(sourceTensor).\n",
      "  tensor_embeddings = [torch.tensor(emb) for emb in shell_data[year]]\n",
      "/var/folders/jj/d77tn1s96j9dgz5sx1cf0b500000gn/T/ipykernel_57786/1462058501.py:2: UserWarning: To copy construct from a tensor, it is recommended to use sourceTensor.clone().detach() or sourceTensor.clone().detach().requires_grad_(True), rather than torch.tensor(sourceTensor).\n",
      "  tensor_embeddings = [torch.tensor(emb) for emb in embeddings]\n"
     ]
    }
   ],
   "source": [
    "## Nyhetsartikler\n",
    "\n",
    "with open(\"data/shell_newsarticles.pkl\",\"rb\") as file:\n",
    "    shell_data = pickle.load(file)\n",
    "\n",
    "print(shell_data.keys())\n",
    "\n",
    "shell_news = []\n",
    "for year in shell_data:\n",
    "    tensor_embeddings = [torch.tensor(emb) for emb in shell_data[year]]\n",
    "    mean = snitt2(tensor_embeddings)\n",
    "    shell_news.append(mean)\n",
    "\n",
    "print(f\"Shell news ({len(shell_news)}): {shell_news}\")  ## 2011-2024\n",
    "\n"
   ]
  },
  {
   "cell_type": "code",
   "execution_count": 144,
   "metadata": {},
   "outputs": [
    {
     "name": "stdout",
     "output_type": "stream",
     "text": [
      "dict_keys(['2014', '2015', '2016', '2017', '2018', '2019', '2020', '2021', '2022', '2023'])\n",
      "Shell annual (10): [tensor([-0.1542,  0.6397,  0.0583,  ..., -0.7522, -0.0758, -0.0935]), tensor([-0.2521,  0.5951, -0.0098,  ..., -0.8236,  0.0239, -0.0209]), tensor([-0.2956,  0.5377, -0.0310,  ..., -0.8498,  0.0595, -0.0704]), tensor([-0.2341,  0.5783,  0.0198,  ..., -0.7345,  0.0652, -0.0494]), tensor([-0.2498,  0.5492,  0.1001,  ..., -0.7257, -0.0196, -0.0099]), tensor([-0.3064,  0.4770,  0.2876,  ..., -0.6172,  0.0432, -0.0084]), tensor([-0.2721,  0.5816,  0.2472,  ..., -0.6927, -0.0093, -0.0197]), tensor([-0.2143,  0.4353,  0.2571,  ..., -0.5921, -0.0968,  0.0155]), tensor([-0.1166,  0.3111,  0.2192,  ..., -0.4872, -0.1298, -0.0192]), tensor([-0.1852,  0.4816,  0.3405,  ..., -0.5959, -0.0428,  0.0913])]\n"
     ]
    },
    {
     "name": "stderr",
     "output_type": "stream",
     "text": [
      "/var/folders/jj/d77tn1s96j9dgz5sx1cf0b500000gn/T/ipykernel_57786/455585773.py:10: UserWarning: To copy construct from a tensor, it is recommended to use sourceTensor.clone().detach() or sourceTensor.clone().detach().requires_grad_(True), rather than torch.tensor(sourceTensor).\n",
      "  tensor_embeddings = [torch.tensor(emb) for emb in shell_pdfs[year]]\n",
      "/var/folders/jj/d77tn1s96j9dgz5sx1cf0b500000gn/T/ipykernel_57786/1462058501.py:2: UserWarning: To copy construct from a tensor, it is recommended to use sourceTensor.clone().detach() or sourceTensor.clone().detach().requires_grad_(True), rather than torch.tensor(sourceTensor).\n",
      "  tensor_embeddings = [torch.tensor(emb) for emb in embeddings]\n"
     ]
    }
   ],
   "source": [
    "## Årsrapporter\n",
    "\n",
    "with open(\"data/shell_annuals.pkl\",\"rb\") as file:\n",
    "    shell_pdfs = pickle.load(file)\n",
    "\n",
    "print(shell_pdfs.keys())\n",
    "\n",
    "shell_annual = []\n",
    "for year in shell_pdfs:\n",
    "    tensor_embeddings = [torch.tensor(emb) for emb in shell_pdfs[year]]\n",
    "    mean = snitt2(tensor_embeddings)\n",
    "    shell_annual.append(mean)\n",
    "shell_annual.reverse()\n",
    "\n",
    "print(f\"Shell annual ({len(shell_annual)}): {shell_annual}\")  ## 2014-2023"
   ]
  },
  {
   "cell_type": "code",
   "execution_count": 146,
   "metadata": {},
   "outputs": [
    {
     "name": "stdout",
     "output_type": "stream",
     "text": [
      "dict_keys([2014, 2015, 2016, 2017, 2018, 2019, 2020, 2021, 2022, 2023])\n",
      "Shell news (10): [tensor([ 0.1187,  0.4671,  0.1695,  ..., -0.7253, -0.1874, -0.1048]), tensor([ 0.0369,  0.7941, -0.0027,  ..., -0.6065,  0.0823, -0.1684]), tensor([ 0.3637,  0.4630,  0.2342,  ..., -0.6324, -0.0952, -0.0049]), tensor([ 0.0992,  0.6234,  0.0316,  ..., -0.6312, -0.0550, -0.0305]), tensor([ 0.1079,  0.7101,  0.0436,  ..., -0.6794, -0.0173,  0.1145]), tensor([ 0.1121,  0.5308, -0.0090,  ..., -0.7625, -0.0566,  0.0185]), tensor([ 0.0357,  0.7734, -0.1026,  ..., -0.7503, -0.1177, -0.0055]), tensor([-0.0195,  0.4751, -0.0528,  ..., -0.6583,  0.0801, -0.0622]), tensor([ 0.0326,  0.5298, -0.0166,  ..., -0.8430, -0.0145,  0.0499]), tensor([-0.0529,  0.3802, -0.0137,  ..., -0.5789,  0.0758,  0.0061])]\n"
     ]
    },
    {
     "name": "stderr",
     "output_type": "stream",
     "text": [
      "/var/folders/jj/d77tn1s96j9dgz5sx1cf0b500000gn/T/ipykernel_57786/3760114730.py:10: UserWarning: To copy construct from a tensor, it is recommended to use sourceTensor.clone().detach() or sourceTensor.clone().detach().requires_grad_(True), rather than torch.tensor(sourceTensor).\n",
      "  tensor_embeddings = [torch.tensor(emb) for emb in shell_data_speeches[year]]\n",
      "/var/folders/jj/d77tn1s96j9dgz5sx1cf0b500000gn/T/ipykernel_57786/1462058501.py:2: UserWarning: To copy construct from a tensor, it is recommended to use sourceTensor.clone().detach() or sourceTensor.clone().detach().requires_grad_(True), rather than torch.tensor(sourceTensor).\n",
      "  tensor_embeddings = [torch.tensor(emb) for emb in embeddings]\n"
     ]
    }
   ],
   "source": [
    "## Taler\n",
    "\n",
    "with open(\"data/shell_speeches.pkl\",\"rb\") as file:\n",
    "    shell_data_speeches = pickle.load(file)\n",
    "\n",
    "print(shell_data_speeches.keys())\n",
    "\n",
    "shell_speeches = []\n",
    "for year in shell_data_speeches:\n",
    "    tensor_embeddings = [torch.tensor(emb) for emb in shell_data_speeches[year]]\n",
    "    mean = snitt2(tensor_embeddings)\n",
    "    shell_speeches.append(mean)\n",
    "\n",
    "print(f\"Shell news ({len(shell_speeches)}): {shell_speeches}\")  ## 2014-2023 "
   ]
  },
  {
   "cell_type": "markdown",
   "metadata": {},
   "source": [
    "## Årsrapporter"
   ]
  },
  {
   "cell_type": "code",
   "execution_count": 187,
   "metadata": {},
   "outputs": [],
   "source": [
    "embeddings = {}\n",
    "embeddings[\"Exxon\"] = exxon_annual\n",
    "embeddings[\"AkerBP\"] = akerBP_annual\n",
    "embeddings[\"Chevron\"] = chevron_annual\n",
    "embeddings[\"BP\"] = BP_annual\n",
    "embeddings[\"PetroChina\"] = PetroChina_annual\n",
    "embeddings[\"Valero\"] = Valero_annual\n",
    "embeddings[\"RelianceIndustries\"] = RelianceIndustries_annual\n",
    "embeddings[\"CNOOC\"] = CNOOC_annual\n",
    "embeddings[\"ConocoPhillips\"] = conocophillips_annual\n",
    "embeddings[\"Enbridge\"] = enbridge_annual\n",
    "embeddings[\"EOG\"] = eog_resources_annual\n",
    "embeddings[\"Marathon\"] = marathon_annual\n",
    "embeddings[\"Equinor\"] = equinor_annual\n",
    "embeddings[\"Shell\"] = shell_annual"
   ]
  },
  {
   "cell_type": "code",
   "execution_count": 148,
   "metadata": {},
   "outputs": [],
   "source": [
    "# Gir embeddingene en score basert på avstand til centroid-ordet\n",
    "\n",
    "def embedding_score(mean_embeddings, centroid_embedding,alpha):\n",
    "    distances = sc.spatial.distance.cdist(mean_embeddings, centroid_embedding, \"cosine\").flatten()\n",
    "    score = 1/(distances**alpha)\n",
    "    sum = score.sum()\n",
    "    return score/sum"
   ]
  },
  {
   "cell_type": "code",
   "execution_count": 149,
   "metadata": {},
   "outputs": [],
   "source": [
    "model = SentenceTransformer(\"mixedbread-ai/mxbai-embed-large-v1\")"
   ]
  },
  {
   "cell_type": "code",
   "execution_count": 150,
   "metadata": {},
   "outputs": [
    {
     "data": {
      "text/plain": [
       "tensor([[-0.2754,  0.8248, -0.9043,  ..., -0.7387, -0.2834, -0.2149]])"
      ]
     },
     "execution_count": 150,
     "metadata": {},
     "output_type": "execute_result"
    }
   ],
   "source": [
    "# Centroid: Ordet vi sammenlikner med\n",
    "centroid = \"At Our Company, we recognize the urgent need for climate action. As a leading player in the energy sector, we are committed to being part of the solution to global climate change. We understand the critical role we play and are taking decisive steps to reduce our carbon footprint and embrace renewable energy sources. Our dedication to cutting CO2 emissions is unwavering. We are actively investing in cutting-edge technologies and innovative practices to minimize our environmental impact. Our goal is to significantly reduce our greenhouse gas emissions in the coming years, contributing to a healthier planet for future generations. Transitioning to renewable energy is at the heart of our sustainability strategy. We are expanding our portfolio to include wind, solar, and other green energy sources, ensuring a diverse and sustainable energy mix. This transition not only supports global efforts to combat climate change but also positions Our Company as a leader in the new energy economy. We are thinking about the future and are committed to exploring all possibilities for a greener tomorrow. Our initiatives include enhancing energy efficiency, investing in research and development, and collaborating with stakeholders to create sustainable solutions. We believe that by working together, we can make a significant impact. At Our Company, our vision for the future is clear: a world where energy needs are met without compromising the health of our planet. We are dedicated to driving change, fostering innovation, and leading by example in the fight against climate change. Together, we can build a sustainable future. Join us on this journey towards a greener, more resilient world.\"\n",
    "centroid_embedding = model.encode(centroid, convert_to_tensor=True).reshape(1, -1)\n",
    "centroid_embedding"
   ]
  },
  {
   "cell_type": "code",
   "execution_count": 188,
   "metadata": {},
   "outputs": [
    {
     "data": {
      "text/plain": [
       "tensor([[-0.1170,  0.7174, -1.0167,  ..., -0.7842,  0.7108, -0.4052]])"
      ]
     },
     "execution_count": 188,
     "metadata": {},
     "output_type": "execute_result"
    }
   ],
   "source": [
    "# Centroid: Ordet vi sammenlikner med\n",
    "centroid = \"Sustainabiliy\"\n",
    "centroid_embedding = model.encode(centroid, convert_to_tensor=True).reshape(1, -1)\n",
    "centroid_embedding"
   ]
  },
  {
   "cell_type": "code",
   "execution_count": 189,
   "metadata": {},
   "outputs": [
    {
     "data": {
      "text/plain": [
       "{'Exxon': [0.0458503238982617,\n",
       "  0.04279822279476644,\n",
       "  0.042839869288355065,\n",
       "  0.04505624797755934,\n",
       "  0.048261948220970886,\n",
       "  0.0458908164675468,\n",
       "  0.05128385627430831,\n",
       "  0.054799165886927015,\n",
       "  0.05525602058135024,\n",
       "  0.0517101844044448,\n",
       "  0.04969078106362861,\n",
       "  0.05504071456569372,\n",
       "  0.05114098748539195,\n",
       "  0.051494915891200005,\n",
       "  0.05208977735727358,\n",
       "  0.05630091326134962,\n",
       "  0.06310207764675013,\n",
       "  0.06812724674300272,\n",
       "  0.06926593019121904],\n",
       " 'AkerBP': [0.05883655194549598,\n",
       "  0.04715300784942902,\n",
       "  0.054520963847942416,\n",
       "  0.0676256727463997,\n",
       "  0.07519290924712868,\n",
       "  0.06281376814922622,\n",
       "  0.05567894617540647,\n",
       "  0.04989467249825375,\n",
       "  0.06399744762345069,\n",
       "  0.058029625132919996,\n",
       "  0.061982316616699396,\n",
       "  0.06834825061818761,\n",
       "  0.0773676074639296,\n",
       "  0.07153668660619726,\n",
       "  0.12702157347933327],\n",
       " 'Chevron': [0.03289249569555908,\n",
       "  0.026910917894697912,\n",
       "  0.029841238805429444,\n",
       "  0.041806762215937175,\n",
       "  0.0335416731544095,\n",
       "  0.030399289020682705,\n",
       "  0.04483187252073501,\n",
       "  0.04847035841157117,\n",
       "  0.06673415395529488,\n",
       "  0.055292323110906226,\n",
       "  0.0412587199525437,\n",
       "  0.046186857697922044,\n",
       "  0.035138208322314755,\n",
       "  0.042734525413403446,\n",
       "  0.03417261974258145,\n",
       "  0.030940156462202148,\n",
       "  0.029841665438652878,\n",
       "  0.030010324616156523,\n",
       "  0.031083895733823447,\n",
       "  0.02763766943963953,\n",
       "  0.02567754697715581,\n",
       "  0.027245669371650676,\n",
       "  0.008371286292841668,\n",
       "  0.01607665618106413,\n",
       "  0.01422208078820688,\n",
       "  0.02553378689573796,\n",
       "  0.01543845692029156,\n",
       "  0.05693263031806083,\n",
       "  0.050776158650527564],\n",
       " 'BP': [0.05421262406675175,\n",
       "  0.0551652366869122,\n",
       "  0.056795168375964766,\n",
       "  0.057530883799365884,\n",
       "  0.04894193413343051,\n",
       "  0.07074196780090898,\n",
       "  0.07673605929520581,\n",
       "  0.0689196181908542,\n",
       "  0.05264438205664347,\n",
       "  0.09407380568640733,\n",
       "  0.09518732569271202,\n",
       "  0.09616225399492129,\n",
       "  0.08410124456429503,\n",
       "  0.08878749565562677],\n",
       " 'PetroChina': [0.23134944797314208,\n",
       "  0.09802988279683043,\n",
       "  0.0855530017291543,\n",
       "  0.12442598556875682,\n",
       "  0.12443756705163503,\n",
       "  0.12067634707995233,\n",
       "  0.10129614377748268,\n",
       "  0.11423162402304628],\n",
       " 'Valero': [0.030231626898866645,\n",
       "  0.0316786915490278,\n",
       "  0.03329418620884038,\n",
       "  0.042161213431325714,\n",
       "  0.0513412518975786,\n",
       "  0.07296910965291313,\n",
       "  0.08218932484978896,\n",
       "  0.08915694843613904,\n",
       "  0.06721442664415705,\n",
       "  0.03190172777017403,\n",
       "  0.02748817813987098,\n",
       "  0.028603653230031865,\n",
       "  0.032288514900204734,\n",
       "  0.03569224474079725,\n",
       "  0.03700664195285464,\n",
       "  0.0354178857080103,\n",
       "  0.03805725262932372,\n",
       "  0.040501764671283955,\n",
       "  0.0542614333333546,\n",
       "  0.06454401722896849,\n",
       "  0.073999906126488],\n",
       " 'RelianceIndustries': [0.01162024633603072,\n",
       "  0.009469175228403407,\n",
       "  0.013313392718815972,\n",
       "  0.011329560900404297,\n",
       "  0.014557083810433424,\n",
       "  0.015505855438542389,\n",
       "  0.02611393941055108,\n",
       "  0.028331810694121332,\n",
       "  0.020329090003822135,\n",
       "  0.015550160261355674,\n",
       "  0.018028627409246704,\n",
       "  0.019058658926756362,\n",
       "  0.012403637380572843,\n",
       "  0.013175432743986313,\n",
       "  0.01968586911068469,\n",
       "  0.022889185802161212,\n",
       "  0.02088479667512949,\n",
       "  0.021931061027300157,\n",
       "  0.020257503037172022,\n",
       "  0.02563381175812314,\n",
       "  0.02676518742078672,\n",
       "  0.02922367886469739,\n",
       "  0.028644329767654398,\n",
       "  0.016214553905693506,\n",
       "  0.056557882095672495,\n",
       "  0.015649135066141826,\n",
       "  0.030213723054136037,\n",
       "  0.06105556354835184,\n",
       "  0.05245268048427881,\n",
       "  0.047514934188774366,\n",
       "  0.048072039282069386,\n",
       "  0.05196763819740689,\n",
       "  0.036098513932396936,\n",
       "  0.03889852017062323,\n",
       "  0.042986202509535096,\n",
       "  0.057616518838167714],\n",
       " 'CNOOC': [0.11210786353481611,\n",
       "  0.11041909817400626,\n",
       "  0.10596477710450725,\n",
       "  0.1041719299425048,\n",
       "  0.10909184163603092,\n",
       "  0.10921371082157019,\n",
       "  0.11546007203119515,\n",
       "  0.11553038776006351,\n",
       "  0.1180403189953057],\n",
       " 'ConocoPhillips': [0.043174326460030436,\n",
       "  0.042714523048894365,\n",
       "  0.008718348357878896,\n",
       "  0.013817564370121974,\n",
       "  0.06994308186169526,\n",
       "  0.022198524912865565,\n",
       "  0.06438191283479713,\n",
       "  0.08680869447952079,\n",
       "  0.06269937055537889,\n",
       "  0.07424075418236524,\n",
       "  0.05043749534311845,\n",
       "  0.05588344722468324,\n",
       "  0.04934797374399776,\n",
       "  0.05137908035461224,\n",
       "  0.055007146030282984,\n",
       "  0.06181063637128367,\n",
       "  0.040911285086326396,\n",
       "  0.04995820746385079,\n",
       "  0.09656762731829581],\n",
       " 'Enbridge': [0.05245825459890763,\n",
       "  0.04561237626154011,\n",
       "  0.05622090420484063,\n",
       "  0.051644874907915014,\n",
       "  0.051638727046110645,\n",
       "  0.05431230314751654,\n",
       "  0.08713065359126615,\n",
       "  0.08858150441618144,\n",
       "  0.0860016282233318,\n",
       "  0.10598911044224084,\n",
       "  0.12336990168895291,\n",
       "  0.09849495543463024,\n",
       "  0.09854480603656611],\n",
       " 'EOG': [0.042847473848853485,\n",
       "  0.04413351081886487,\n",
       "  0.03624150037345414,\n",
       "  0.013202564455476113,\n",
       "  0.014118264922170715,\n",
       "  0.014721889972602277,\n",
       "  0.012027128458420121,\n",
       "  0.012595247639633605,\n",
       "  0.032731079999816254,\n",
       "  0.05054379340676815,\n",
       "  0.052697955942623255,\n",
       "  0.055601240374264935,\n",
       "  0.03081822623944229,\n",
       "  0.03308012880564542,\n",
       "  0.03216691568695867,\n",
       "  0.027585911777511185,\n",
       "  0.052497737261187186,\n",
       "  0.04993466225055678,\n",
       "  0.04961290433503345,\n",
       "  0.051693652350327676,\n",
       "  0.056770466769652694,\n",
       "  0.05224499759889486,\n",
       "  0.061160032383548606,\n",
       "  0.0568142699796926,\n",
       "  0.06415844434860062],\n",
       " 'Marathon': [0.06737934826351066,\n",
       "  0.05767573550863362,\n",
       "  0.061998106355253185,\n",
       "  0.07364274879516268,\n",
       "  0.06967418840930022,\n",
       "  0.06565145837569986,\n",
       "  0.06961532538807051,\n",
       "  0.07787058757983259,\n",
       "  0.08256263673004227,\n",
       "  0.0833350834842466,\n",
       "  0.0941525266191841,\n",
       "  0.09810917631522463,\n",
       "  0.09833307817583913],\n",
       " 'Equinor': [0.026669404243698083,\n",
       "  0.03131707110186351,\n",
       "  0.025334577132524357,\n",
       "  0.03794990018890875,\n",
       "  0.03774491563622934,\n",
       "  0.044570091804989186,\n",
       "  0.04904790586947491,\n",
       "  0.03348905753659447,\n",
       "  0.040878310397147045,\n",
       "  0.04703156924577133,\n",
       "  0.042009651782804164,\n",
       "  0.03095962708760574,\n",
       "  0.034715954286367014,\n",
       "  0.0337223685399921,\n",
       "  0.01232182869667556,\n",
       "  0.035714349261545215,\n",
       "  0.03425829192715076,\n",
       "  0.032719547188480504,\n",
       "  0.0394632106623487,\n",
       "  0.04704105886844102,\n",
       "  0.04870419678019996,\n",
       "  0.03391777577363681,\n",
       "  0.07929596973003447,\n",
       "  0.032810824088630654,\n",
       "  0.08831254216888633],\n",
       " 'Shell': [0.14949511229725002,\n",
       "  0.15411604518497923,\n",
       "  0.1299476600064192,\n",
       "  0.109999290318426,\n",
       "  0.10334287257252371,\n",
       "  0.06742826958108884,\n",
       "  0.07629017202143135,\n",
       "  0.07878777849713701,\n",
       "  0.0669962101085771,\n",
       "  0.06359658941216743]}"
      ]
     },
     "execution_count": 189,
     "metadata": {},
     "output_type": "execute_result"
    }
   ],
   "source": [
    "# Compute the scores for each company\n",
    "alpha = 5\n",
    "scores = {}\n",
    "for company, emb_list in embeddings.items():\n",
    "    scores[company] = embedding_score(emb_list, centroid_embedding, alpha).tolist()\n",
    "\n",
    "scores"
   ]
  },
  {
   "cell_type": "code",
   "execution_count": 190,
   "metadata": {},
   "outputs": [
    {
     "data": {
      "text/plain": [
       "dict_keys(['Exxon', 'AkerBP', 'Chevron', 'BP', 'PetroChina', 'Valero', 'RelianceIndustries', 'CNOOC', 'ConocoPhillips', 'Enbridge', 'EOG', 'Marathon', 'Equinor', 'Shell'])"
      ]
     },
     "execution_count": 190,
     "metadata": {},
     "output_type": "execute_result"
    }
   ],
   "source": [
    "scores.keys()"
   ]
  },
  {
   "cell_type": "code",
   "execution_count": 155,
   "metadata": {},
   "outputs": [],
   "source": [
    "# Define the years for each company\n",
    "years = {\n",
    "    'Exxon': list(range(2005, 2024)),\n",
    "    'AkerBP': list(range(2009, 2024)),\n",
    "    'Chevron': list(range(1995,2024)),\n",
    "    'BP': list(range(2010,2024)),\n",
    "    'PetroChina': list(range(2016,2024)),\n",
    "    'Valero': list(range(2002,2023)),\n",
    "    'RelianceIndustries': list(range(1988,2024)),\n",
    "    'CNOOC': list(range(2015,2024)),\n",
    "    'ConocoPhillips': list(range(2005,2024)),\n",
    "    'Enbridge': list(range(2011,2024)),\n",
    "    'EOG': list(range(1999,2024)),\n",
    "    'Marathon': list(range(2011,2024)),\n",
    "    'Equinor': list(range(1999,2024)),\n",
    "    'Shell': list(range(2014,2024))\n",
    "}\n",
    "\n",
    "# Prepare data for plotting\n",
    "plot_data = {\n",
    "    'Exxon': scores['Exxon'],\n",
    "    'AkerBP': scores['AkerBP'],\n",
    "    'Chevron': scores['Chevron'],\n",
    "    'BP': scores['BP'],\n",
    "    'PetroChina': scores['PetroChina'],\n",
    "    'Valero': scores['Valero'],\n",
    "    'RelianceIndustries': scores['RelianceIndustries'],\n",
    "    'CNOOC': scores['CNOOC'],\n",
    "    'ConocoPhillips': scores['ConocoPhillips'],\n",
    "    'Enbridge': scores['Enbridge'],\n",
    "    'EOG': scores['EOG'],\n",
    "    'Marathon': scores['Marathon'],\n",
    "    'Equinor': scores['Equinor'],\n",
    "    'Shell': scores['Shell']\n",
    "}"
   ]
  },
  {
   "cell_type": "code",
   "execution_count": 156,
   "metadata": {},
   "outputs": [
    {
     "data": {
      "image/png": "[encoded data removed]",
      "text/plain": [
       "<Figure size 1000x500 with 1 Axes>"
      ]
     },
     "metadata": {},
     "output_type": "display_data"
    }
   ],
   "source": [
    "import matplotlib.cm as cm\n",
    "\n",
    "# Combine all years into a single list and remove duplicates\n",
    "all_years = sorted(set(year for company_years in years.values() for year in company_years))\n",
    "\n",
    "# Define the colors and labels for each company\n",
    "num_companies = len(plot_data)\n",
    "colors = cm.tab20(np.linspace(0, 1, num_companies))\n",
    "labels = list(plot_data.keys())\n",
    "\n",
    "plt.figure(figsize=(10, 5))\n",
    "plt.title('Årsrapporter og Sustainability')\n",
    "plt.xlabel('Year')\n",
    "plt.ylabel('Score')\n",
    "plt.grid(True)\n",
    "\n",
    "# Plot the scores for each company\n",
    "for i, (company, color) in enumerate(zip(plot_data.keys(), colors)):\n",
    "    plt.plot(years[company], plot_data[company], color=color, label=company)\n",
    "\n",
    "# Customize x-axis ticks to show all years\n",
    "plt.xticks(all_years, rotation=45)\n",
    "\n",
    "# Show legend\n",
    "plt.legend()\n",
    "\n",
    "# Show the plot\n",
    "plt.show()"
   ]
  },
  {
   "cell_type": "code",
   "execution_count": 157,
   "metadata": {},
   "outputs": [
    {
     "data": {
      "application/vnd.plotly.v1+json": {
       "config": {
        "plotlyServerURL": "https://plot.ly"
       },
       "data": [
        {
         "mode": "lines+markers",
         "name": "Exxon",
         "type": "scatter",
         "x": [
          2005,
          2006,
          2007,
          2008,
          2009,
          2010,
          2011,
          2012,
          2013,
          2014,
          2015,
          2016,
          2017,
          2018,
          2019,
          2020,
          2021,
          2022,
          2023
         ],
         "y": [
          0.0458503238982617,
          0.04279822279476644,
          0.042839869288355065,
          0.04505624797755934,
          0.048261948220970886,
          0.0458908164675468,
          0.05128385627430831,
          0.054799165886927015,
          0.05525602058135024,
          0.0517101844044448,
          0.04969078106362861,
          0.05504071456569372,
          0.05114098748539195,
          0.051494915891200005,
          0.05208977735727358,
          0.05630091326134962,
          0.06310207764675013,
          0.06812724674300272,
          0.06926593019121904
         ]
        },
        {
         "mode": "lines+markers",
         "name": "AkerBP",
         "type": "scatter",
         "x": [
          2009,
          2010,
          2011,
          2012,
          2013,
          2014,
          2015,
          2016,
          2017,
          2018,
          2019,
          2020,
          2021,
          2022,
          2023
         ],
         "y": [
          0.05883655194549598,
          0.04715300784942902,
          0.054520963847942416,
          0.0676256727463997,
          0.07519290924712868,
          0.06281376814922622,
          0.05567894617540647,
          0.04989467249825375,
          0.06399744762345069,
          0.058029625132919996,
          0.061982316616699396,
          0.06834825061818761,
          0.0773676074639296,
          0.07153668660619726,
          0.12702157347933327
         ]
        },
        {
         "mode": "lines+markers",
         "name": "Chevron",
         "type": "scatter",
         "x": [
          1995,
          1996,
          1997,
          1998,
          1999,
          2000,
          2001,
          2002,
          2003,
          2004,
          2005,
          2006,
          2007,
          2008,
          2009,
          2010,
          2011,
          2012,
          2013,
          2014,
          2015,
          2016,
          2017,
          2018,
          2019,
          2020,
          2021,
          2022,
          2023
         ],
         "y": [
          0.03289249569555908,
          0.026910917894697912,
          0.029841238805429444,
          0.041806762215937175,
          0.0335416731544095,
          0.030399289020682705,
          0.04483187252073501,
          0.04847035841157117,
          0.06673415395529488,
          0.055292323110906226,
          0.0412587199525437,
          0.046186857697922044,
          0.035138208322314755,
          0.042734525413403446,
          0.03417261974258145,
          0.030940156462202148,
          0.029841665438652878,
          0.030010324616156523,
          0.031083895733823447,
          0.02763766943963953,
          0.02567754697715581,
          0.027245669371650676,
          0.008371286292841668,
          0.01607665618106413,
          0.01422208078820688,
          0.02553378689573796,
          0.01543845692029156,
          0.05693263031806083,
          0.050776158650527564
         ]
        },
        {
         "mode": "lines+markers",
         "name": "BP",
         "type": "scatter",
         "x": [
          2010,
          2011,
          2012,
          2013,
          2014,
          2015,
          2016,
          2017,
          2018,
          2019,
          2020,
          2021,
          2022,
          2023
         ],
         "y": [
          0.05421262406675175,
          0.0551652366869122,
          0.056795168375964766,
          0.057530883799365884,
          0.04894193413343051,
          0.07074196780090898,
          0.07673605929520581,
          0.0689196181908542,
          0.05264438205664347,
          0.09407380568640733,
          0.09518732569271202,
          0.09616225399492129,
          0.08410124456429503,
          0.08878749565562677
         ]
        },
        {
         "mode": "lines+markers",
         "name": "PetroChina",
         "type": "scatter",
         "x": [
          2016,
          2017,
          2018,
          2019,
          2020,
          2021,
          2022,
          2023
         ],
         "y": [
          0.23134944797314208,
          0.09802988279683043,
          0.0855530017291543,
          0.12442598556875682,
          0.12443756705163503,
          0.12067634707995233,
          0.10129614377748268,
          0.11423162402304628
         ]
        },
        {
         "mode": "lines+markers",
         "name": "Valero",
         "type": "scatter",
         "x": [
          2002,
          2003,
          2004,
          2005,
          2006,
          2007,
          2008,
          2009,
          2010,
          2011,
          2012,
          2013,
          2014,
          2015,
          2016,
          2017,
          2018,
          2019,
          2020,
          2021,
          2022
         ],
         "y": [
          0.030231626898866645,
          0.0316786915490278,
          0.03329418620884038,
          0.042161213431325714,
          0.0513412518975786,
          0.07296910965291313,
          0.08218932484978896,
          0.08915694843613904,
          0.06721442664415705,
          0.03190172777017403,
          0.02748817813987098,
          0.028603653230031865,
          0.032288514900204734,
          0.03569224474079725,
          0.03700664195285464,
          0.0354178857080103,
          0.03805725262932372,
          0.040501764671283955,
          0.0542614333333546,
          0.06454401722896849,
          0.073999906126488
         ]
        },
        {
         "mode": "lines+markers",
         "name": "RelianceIndustries",
         "type": "scatter",
         "x": [
          1988,
          1989,
          1990,
          1991,
          1992,
          1993,
          1994,
          1995,
          1996,
          1997,
          1998,
          1999,
          2000,
          2001,
          2002,
          2003,
          2004,
          2005,
          2006,
          2007,
          2008,
          2009,
          2010,
          2011,
          2012,
          2013,
          2014,
          2015,
          2016,
          2017,
          2018,
          2019,
          2020,
          2021,
          2022,
          2023
         ],
         "y": [
          0.01162024633603072,
          0.009469175228403407,
          0.013313392718815972,
          0.011329560900404297,
          0.014557083810433424,
          0.015505855438542389,
          0.02611393941055108,
          0.028331810694121332,
          0.020329090003822135,
          0.015550160261355674,
          0.018028627409246704,
          0.019058658926756362,
          0.012403637380572843,
          0.013175432743986313,
          0.01968586911068469,
          0.022889185802161212,
          0.02088479667512949,
          0.021931061027300157,
          0.020257503037172022,
          0.02563381175812314,
          0.02676518742078672,
          0.02922367886469739,
          0.028644329767654398,
          0.016214553905693506,
          0.056557882095672495,
          0.015649135066141826,
          0.030213723054136037,
          0.06105556354835184,
          0.05245268048427881,
          0.047514934188774366,
          0.048072039282069386,
          0.05196763819740689,
          0.036098513932396936,
          0.03889852017062323,
          0.042986202509535096,
          0.057616518838167714
         ]
        },
        {
         "mode": "lines+markers",
         "name": "CNOOC",
         "type": "scatter",
         "x": [
          2015,
          2016,
          2017,
          2018,
          2019,
          2020,
          2021,
          2022,
          2023
         ],
         "y": [
          0.11210786353481611,
          0.11041909817400626,
          0.10596477710450725,
          0.1041719299425048,
          0.10909184163603092,
          0.10921371082157019,
          0.11546007203119515,
          0.11553038776006351,
          0.1180403189953057
         ]
        },
        {
         "mode": "lines+markers",
         "name": "ConocoPhillips",
         "type": "scatter",
         "x": [
          2005,
          2006,
          2007,
          2008,
          2009,
          2010,
          2011,
          2012,
          2013,
          2014,
          2015,
          2016,
          2017,
          2018,
          2019,
          2020,
          2021,
          2022,
          2023
         ],
         "y": [
          0.043174326460030436,
          0.042714523048894365,
          0.008718348357878896,
          0.013817564370121974,
          0.06994308186169526,
          0.022198524912865565,
          0.06438191283479713,
          0.08680869447952079,
          0.06269937055537889,
          0.07424075418236524,
          0.05043749534311845,
          0.05588344722468324,
          0.04934797374399776,
          0.05137908035461224,
          0.055007146030282984,
          0.06181063637128367,
          0.040911285086326396,
          0.04995820746385079,
          0.09656762731829581
         ]
        },
        {
         "mode": "lines+markers",
         "name": "Enbridge",
         "type": "scatter",
         "x": [
          2011,
          2012,
          2013,
          2014,
          2015,
          2016,
          2017,
          2018,
          2019,
          2020,
          2021,
          2022,
          2023
         ],
         "y": [
          0.05245825459890763,
          0.04561237626154011,
          0.05622090420484063,
          0.051644874907915014,
          0.051638727046110645,
          0.05431230314751654,
          0.08713065359126615,
          0.08858150441618144,
          0.0860016282233318,
          0.10598911044224084,
          0.12336990168895291,
          0.09849495543463024,
          0.09854480603656611
         ]
        },
        {
         "mode": "lines+markers",
         "name": "EOG",
         "type": "scatter",
         "x": [
          1999,
          2000,
          2001,
          2002,
          2003,
          2004,
          2005,
          2006,
          2007,
          2008,
          2009,
          2010,
          2011,
          2012,
          2013,
          2014,
          2015,
          2016,
          2017,
          2018,
          2019,
          2020,
          2021,
          2022,
          2023
         ],
         "y": [
          0.042847473848853485,
          0.04413351081886487,
          0.03624150037345414,
          0.013202564455476113,
          0.014118264922170715,
          0.014721889972602277,
          0.012027128458420121,
          0.012595247639633605,
          0.032731079999816254,
          0.05054379340676815,
          0.052697955942623255,
          0.055601240374264935,
          0.03081822623944229,
          0.03308012880564542,
          0.03216691568695867,
          0.027585911777511185,
          0.052497737261187186,
          0.04993466225055678,
          0.04961290433503345,
          0.051693652350327676,
          0.056770466769652694,
          0.05224499759889486,
          0.061160032383548606,
          0.0568142699796926,
          0.06415844434860062
         ]
        },
        {
         "mode": "lines+markers",
         "name": "Marathon",
         "type": "scatter",
         "x": [
          2011,
          2012,
          2013,
          2014,
          2015,
          2016,
          2017,
          2018,
          2019,
          2020,
          2021,
          2022,
          2023
         ],
         "y": [
          0.06737934826351066,
          0.05767573550863362,
          0.061998106355253185,
          0.07364274879516268,
          0.06967418840930022,
          0.06565145837569986,
          0.06961532538807051,
          0.07787058757983259,
          0.08256263673004227,
          0.0833350834842466,
          0.0941525266191841,
          0.09810917631522463,
          0.09833307817583913
         ]
        },
        {
         "mode": "lines+markers",
         "name": "Equinor",
         "type": "scatter",
         "x": [
          1999,
          2000,
          2001,
          2002,
          2003,
          2004,
          2005,
          2006,
          2007,
          2008,
          2009,
          2010,
          2011,
          2012,
          2013,
          2014,
          2015,
          2016,
          2017,
          2018,
          2019,
          2020,
          2021,
          2022,
          2023
         ],
         "y": [
          0.026669404243698083,
          0.03131707110186351,
          0.025334577132524357,
          0.03794990018890875,
          0.03774491563622934,
          0.044570091804989186,
          0.04904790586947491,
          0.03348905753659447,
          0.040878310397147045,
          0.04703156924577133,
          0.042009651782804164,
          0.03095962708760574,
          0.034715954286367014,
          0.0337223685399921,
          0.01232182869667556,
          0.035714349261545215,
          0.03425829192715076,
          0.032719547188480504,
          0.0394632106623487,
          0.04704105886844102,
          0.04870419678019996,
          0.03391777577363681,
          0.07929596973003447,
          0.032810824088630654,
          0.08831254216888633
         ]
        },
        {
         "mode": "lines+markers",
         "name": "Shell",
         "type": "scatter",
         "x": [
          2014,
          2015,
          2016,
          2017,
          2018,
          2019,
          2020,
          2021,
          2022,
          2023
         ],
         "y": [
          0.14949511229725002,
          0.15411604518497923,
          0.1299476600064192,
          0.109999290318426,
          0.10334287257252371,
          0.06742826958108884,
          0.07629017202143135,
          0.07878777849713701,
          0.0669962101085771,
          0.06359658941216743
         ]
        }
       ],
       "layout": {
        "hovermode": "x unified",
        "template": {
         "data": {
          "bar": [
           {
            "error_x": {
             "color": "#2a3f5f"
            },
            "error_y": {
             "color": "#2a3f5f"
            },
            "marker": {
             "line": {
              "color": "#E5ECF6",
              "width": 0.5
             },
             "pattern": {
              "fillmode": "overlay",
              "size": 10,
              "solidity": 0.2
             }
            },
            "type": "bar"
           }
          ],
          "barpolar": [
           {
            "marker": {
             "line": {
              "color": "#E5ECF6",
              "width": 0.5
             },
             "pattern": {
              "fillmode": "overlay",
              "size": 10,
              "solidity": 0.2
             }
            },
            "type": "barpolar"
           }
          ],
          "carpet": [
           {
            "aaxis": {
             "endlinecolor": "#2a3f5f",
             "gridcolor": "white",
             "linecolor": "white",
             "minorgridcolor": "white",
             "startlinecolor": "#2a3f5f"
            },
            "baxis": {
             "endlinecolor": "#2a3f5f",
             "gridcolor": "white",
             "linecolor": "white",
             "minorgridcolor": "white",
             "startlinecolor": "#2a3f5f"
            },
            "type": "carpet"
           }
          ],
          "choropleth": [
           {
            "colorbar": {
             "outlinewidth": 0,
             "ticks": ""
            },
            "type": "choropleth"
           }
          ],
          "contour": [
           {
            "colorbar": {
             "outlinewidth": 0,
             "ticks": ""
            },
            "colorscale": [
             [
              0,
              "#0d0887"
             ],
             [
              0.1111111111111111,
              "#46039f"
             ],
             [
              0.2222222222222222,
              "#7201a8"
             ],
             [
              0.3333333333333333,
              "#9c179e"
             ],
             [
              0.4444444444444444,
              "#bd3786"
             ],
             [
              0.5555555555555556,
              "#d8576b"
             ],
             [
              0.6666666666666666,
              "#ed7953"
             ],
             [
              0.7777777777777778,
              "#fb9f3a"
             ],
             [
              0.8888888888888888,
              "#fdca26"
             ],
             [
              1,
              "#f0f921"
             ]
            ],
            "type": "contour"
           }
          ],
          "contourcarpet": [
           {
            "colorbar": {
             "outlinewidth": 0,
             "ticks": ""
            },
            "type": "contourcarpet"
           }
          ],
          "heatmap": [
           {
            "colorbar": {
             "outlinewidth": 0,
             "ticks": ""
            },
            "colorscale": [
             [
              0,
              "#0d0887"
             ],
             [
              0.1111111111111111,
              "#46039f"
             ],
             [
              0.2222222222222222,
              "#7201a8"
             ],
             [
              0.3333333333333333,
              "#9c179e"
             ],
             [
              0.4444444444444444,
              "#bd3786"
             ],
             [
              0.5555555555555556,
              "#d8576b"
             ],
             [
              0.6666666666666666,
              "#ed7953"
             ],
             [
              0.7777777777777778,
              "#fb9f3a"
             ],
             [
              0.8888888888888888,
              "#fdca26"
             ],
             [
              1,
              "#f0f921"
             ]
            ],
            "type": "heatmap"
           }
          ],
          "heatmapgl": [
           {
            "colorbar": {
             "outlinewidth": 0,
             "ticks": ""
            },
            "colorscale": [
             [
              0,
              "#0d0887"
             ],
             [
              0.1111111111111111,
              "#46039f"
             ],
             [
              0.2222222222222222,
              "#7201a8"
             ],
             [
              0.3333333333333333,
              "#9c179e"
             ],
             [
              0.4444444444444444,
              "#bd3786"
             ],
             [
              0.5555555555555556,
              "#d8576b"
             ],
             [
              0.6666666666666666,
              "#ed7953"
             ],
             [
              0.7777777777777778,
              "#fb9f3a"
             ],
             [
              0.8888888888888888,
              "#fdca26"
             ],
             [
              1,
              "#f0f921"
             ]
            ],
            "type": "heatmapgl"
           }
          ],
          "histogram": [
           {
            "marker": {
             "pattern": {
              "fillmode": "overlay",
              "size": 10,
              "solidity": 0.2
             }
            },
            "type": "histogram"
           }
          ],
          "histogram2d": [
           {
            "colorbar": {
             "outlinewidth": 0,
             "ticks": ""
            },
            "colorscale": [
             [
              0,
              "#0d0887"
             ],
             [
              0.1111111111111111,
              "#46039f"
             ],
             [
              0.2222222222222222,
              "#7201a8"
             ],
             [
              0.3333333333333333,
              "#9c179e"
             ],
             [
              0.4444444444444444,
              "#bd3786"
             ],
             [
              0.5555555555555556,
              "#d8576b"
             ],
             [
              0.6666666666666666,
              "#ed7953"
             ],
             [
              0.7777777777777778,
              "#fb9f3a"
             ],
             [
              0.8888888888888888,
              "#fdca26"
             ],
             [
              1,
              "#f0f921"
             ]
            ],
            "type": "histogram2d"
           }
          ],
          "histogram2dcontour": [
           {
            "colorbar": {
             "outlinewidth": 0,
             "ticks": ""
            },
            "colorscale": [
             [
              0,
              "#0d0887"
             ],
             [
              0.1111111111111111,
              "#46039f"
             ],
             [
              0.2222222222222222,
              "#7201a8"
             ],
             [
              0.3333333333333333,
              "#9c179e"
             ],
             [
              0.4444444444444444,
              "#bd3786"
             ],
             [
              0.5555555555555556,
              "#d8576b"
             ],
             [
              0.6666666666666666,
              "#ed7953"
             ],
             [
              0.7777777777777778,
              "#fb9f3a"
             ],
             [
              0.8888888888888888,
              "#fdca26"
             ],
             [
              1,
              "#f0f921"
             ]
            ],
            "type": "histogram2dcontour"
           }
          ],
          "mesh3d": [
           {
            "colorbar": {
             "outlinewidth": 0,
             "ticks": ""
            },
            "type": "mesh3d"
           }
          ],
          "parcoords": [
           {
            "line": {
             "colorbar": {
              "outlinewidth": 0,
              "ticks": ""
             }
            },
            "type": "parcoords"
           }
          ],
          "pie": [
           {
            "automargin": true,
            "type": "pie"
           }
          ],
          "scatter": [
           {
            "fillpattern": {
             "fillmode": "overlay",
             "size": 10,
             "solidity": 0.2
            },
            "type": "scatter"
           }
          ],
          "scatter3d": [
           {
            "line": {
             "colorbar": {
              "outlinewidth": 0,
              "ticks": ""
             }
            },
            "marker": {
             "colorbar": {
              "outlinewidth": 0,
              "ticks": ""
             }
            },
            "type": "scatter3d"
           }
          ],
          "scattercarpet": [
           {
            "marker": {
             "colorbar": {
              "outlinewidth": 0,
              "ticks": ""
             }
            },
            "type": "scattercarpet"
           }
          ],
          "scattergeo": [
           {
            "marker": {
             "colorbar": {
              "outlinewidth": 0,
              "ticks": ""
             }
            },
            "type": "scattergeo"
           }
          ],
          "scattergl": [
           {
            "marker": {
             "colorbar": {
              "outlinewidth": 0,
              "ticks": ""
             }
            },
            "type": "scattergl"
           }
          ],
          "scattermapbox": [
           {
            "marker": {
             "colorbar": {
              "outlinewidth": 0,
              "ticks": ""
             }
            },
            "type": "scattermapbox"
           }
          ],
          "scatterpolar": [
           {
            "marker": {
             "colorbar": {
              "outlinewidth": 0,
              "ticks": ""
             }
            },
            "type": "scatterpolar"
           }
          ],
          "scatterpolargl": [
           {
            "marker": {
             "colorbar": {
              "outlinewidth": 0,
              "ticks": ""
             }
            },
            "type": "scatterpolargl"
           }
          ],
          "scatterternary": [
           {
            "marker": {
             "colorbar": {
              "outlinewidth": 0,
              "ticks": ""
             }
            },
            "type": "scatterternary"
           }
          ],
          "surface": [
           {
            "colorbar": {
             "outlinewidth": 0,
             "ticks": ""
            },
            "colorscale": [
             [
              0,
              "#0d0887"
             ],
             [
              0.1111111111111111,
              "#46039f"
             ],
             [
              0.2222222222222222,
              "#7201a8"
             ],
             [
              0.3333333333333333,
              "#9c179e"
             ],
             [
              0.4444444444444444,
              "#bd3786"
             ],
             [
              0.5555555555555556,
              "#d8576b"
             ],
             [
              0.6666666666666666,
              "#ed7953"
             ],
             [
              0.7777777777777778,
              "#fb9f3a"
             ],
             [
              0.8888888888888888,
              "#fdca26"
             ],
             [
              1,
              "#f0f921"
             ]
            ],
            "type": "surface"
           }
          ],
          "table": [
           {
            "cells": {
             "fill": {
              "color": "#EBF0F8"
             },
             "line": {
              "color": "white"
             }
            },
            "header": {
             "fill": {
              "color": "#C8D4E3"
             },
             "line": {
              "color": "white"
             }
            },
            "type": "table"
           }
          ]
         },
         "layout": {
          "annotationdefaults": {
           "arrowcolor": "#2a3f5f",
           "arrowhead": 0,
           "arrowwidth": 1
          },
          "autotypenumbers": "strict",
          "coloraxis": {
           "colorbar": {
            "outlinewidth": 0,
            "ticks": ""
           }
          },
          "colorscale": {
           "diverging": [
            [
             0,
             "#8e0152"
            ],
            [
             0.1,
             "#c51b7d"
            ],
            [
             0.2,
             "#de77ae"
            ],
            [
             0.3,
             "#f1b6da"
            ],
            [
             0.4,
             "#fde0ef"
            ],
            [
             0.5,
             "#f7f7f7"
            ],
            [
             0.6,
             "#e6f5d0"
            ],
            [
             0.7,
             "#b8e186"
            ],
            [
             0.8,
             "#7fbc41"
            ],
            [
             0.9,
             "#4d9221"
            ],
            [
             1,
             "#276419"
            ]
           ],
           "sequential": [
            [
             0,
             "#0d0887"
            ],
            [
             0.1111111111111111,
             "#46039f"
            ],
            [
             0.2222222222222222,
             "#7201a8"
            ],
            [
             0.3333333333333333,
             "#9c179e"
            ],
            [
             0.4444444444444444,
             "#bd3786"
            ],
            [
             0.5555555555555556,
             "#d8576b"
            ],
            [
             0.6666666666666666,
             "#ed7953"
            ],
            [
             0.7777777777777778,
             "#fb9f3a"
            ],
            [
             0.8888888888888888,
             "#fdca26"
            ],
            [
             1,
             "#f0f921"
            ]
           ],
           "sequentialminus": [
            [
             0,
             "#0d0887"
            ],
            [
             0.1111111111111111,
             "#46039f"
            ],
            [
             0.2222222222222222,
             "#7201a8"
            ],
            [
             0.3333333333333333,
             "#9c179e"
            ],
            [
             0.4444444444444444,
             "#bd3786"
            ],
            [
             0.5555555555555556,
             "#d8576b"
            ],
            [
             0.6666666666666666,
             "#ed7953"
            ],
            [
             0.7777777777777778,
             "#fb9f3a"
            ],
            [
             0.8888888888888888,
             "#fdca26"
            ],
            [
             1,
             "#f0f921"
            ]
           ]
          },
          "colorway": [
           "#636efa",
           "#EF553B",
           "#00cc96",
           "#ab63fa",
           "#FFA15A",
           "#19d3f3",
           "#FF6692",
           "#B6E880",
           "#FF97FF",
           "#FECB52"
          ],
          "font": {
           "color": "#2a3f5f"
          },
          "geo": {
           "bgcolor": "white",
           "lakecolor": "white",
           "landcolor": "#E5ECF6",
           "showlakes": true,
           "showland": true,
           "subunitcolor": "white"
          },
          "hoverlabel": {
           "align": "left"
          },
          "hovermode": "closest",
          "mapbox": {
           "style": "light"
          },
          "paper_bgcolor": "white",
          "plot_bgcolor": "#E5ECF6",
          "polar": {
           "angularaxis": {
            "gridcolor": "white",
            "linecolor": "white",
            "ticks": ""
           },
           "bgcolor": "#E5ECF6",
           "radialaxis": {
            "gridcolor": "white",
            "linecolor": "white",
            "ticks": ""
           }
          },
          "scene": {
           "xaxis": {
            "backgroundcolor": "#E5ECF6",
            "gridcolor": "white",
            "gridwidth": 2,
            "linecolor": "white",
            "showbackground": true,
            "ticks": "",
            "zerolinecolor": "white"
           },
           "yaxis": {
            "backgroundcolor": "#E5ECF6",
            "gridcolor": "white",
            "gridwidth": 2,
            "linecolor": "white",
            "showbackground": true,
            "ticks": "",
            "zerolinecolor": "white"
           },
           "zaxis": {
            "backgroundcolor": "#E5ECF6",
            "gridcolor": "white",
            "gridwidth": 2,
            "linecolor": "white",
            "showbackground": true,
            "ticks": "",
            "zerolinecolor": "white"
           }
          },
          "shapedefaults": {
           "line": {
            "color": "#2a3f5f"
           }
          },
          "ternary": {
           "aaxis": {
            "gridcolor": "white",
            "linecolor": "white",
            "ticks": ""
           },
           "baxis": {
            "gridcolor": "white",
            "linecolor": "white",
            "ticks": ""
           },
           "bgcolor": "#E5ECF6",
           "caxis": {
            "gridcolor": "white",
            "linecolor": "white",
            "ticks": ""
           }
          },
          "title": {
           "x": 0.05
          },
          "xaxis": {
           "automargin": true,
           "gridcolor": "white",
           "linecolor": "white",
           "ticks": "",
           "title": {
            "standoff": 15
           },
           "zerolinecolor": "white",
           "zerolinewidth": 2
          },
          "yaxis": {
           "automargin": true,
           "gridcolor": "white",
           "linecolor": "white",
           "ticks": "",
           "title": {
            "standoff": 15
           },
           "zerolinecolor": "white",
           "zerolinewidth": 2
          }
         }
        },
        "title": {
         "text": "Årsrapporter vs. Sustainability"
        },
        "xaxis": {
         "tickmode": "array",
         "tickvals": [
          1988,
          1989,
          1990,
          1991,
          1992,
          1993,
          1994,
          1995,
          1996,
          1997,
          1998,
          1999,
          2000,
          2001,
          2002,
          2003,
          2004,
          2005,
          2006,
          2007,
          2008,
          2009,
          2010,
          2011,
          2012,
          2013,
          2014,
          2015,
          2016,
          2017,
          2018,
          2019,
          2020,
          2021,
          2022,
          2023
         ],
         "title": {
          "text": "Year"
         }
        },
        "yaxis": {
         "tickmode": "linear",
         "title": {
          "text": "Score"
         }
        }
       }
      }
     },
     "metadata": {},
     "output_type": "display_data"
    }
   ],
   "source": [
    "import plotly.graph_objects as go\n",
    "\n",
    "# Combine all years into a single list and remove duplicates\n",
    "all_years = sorted(set(year for company_years in years.values() for year in company_years))\n",
    "\n",
    "# Create a plotly figure\n",
    "fig = go.Figure()\n",
    "\n",
    "# Plot the scores for each company\n",
    "for company in plot_data.keys():\n",
    "    fig.add_trace(go.Scatter(\n",
    "        x=years[company],\n",
    "        y=plot_data[company],\n",
    "        mode='lines+markers',\n",
    "        name=company\n",
    "    ))\n",
    "\n",
    "# Customize the layout\n",
    "fig.update_layout(\n",
    "    title='Årsrapporter vs. Sustainability',\n",
    "    xaxis_title='Year',\n",
    "    yaxis_title='Score',\n",
    "    xaxis=dict(tickmode='array', tickvals=all_years),\n",
    "    yaxis=dict(tickmode='linear'),\n",
    "    hovermode='x unified'\n",
    ")\n",
    "\n",
    "# Show the plot\n",
    "fig.show()"
   ]
  },
  {
   "cell_type": "markdown",
   "metadata": {},
   "source": [
    "## Snitter over alle årsrapportene!"
   ]
  },
  {
   "cell_type": "code",
   "execution_count": 63,
   "metadata": {},
   "outputs": [],
   "source": [
    "company_list = [exxon_annual,akerBP_annual,chevron_annual,BP_annual,PetroChina_annual,Valero_annual,RelianceIndustries_annual,CNOOC_annual,conocophillips_annual,enbridge_annual,eog_resources_annual,marathon_annual,equinor_annual]\n",
    "new_embeddings = {}\n",
    "\n",
    "for year in range(1988,2024):\n",
    "    new_embeddings[year] = []\n",
    "\n",
    "# Collect embeddings for each year\n",
    "for company in company_list:\n",
    "    start_year = 2023 - len(company) + 1\n",
    "    for index, embedding in enumerate(company):\n",
    "        year = start_year + index\n",
    "        if year in new_embeddings:\n",
    "            new_embeddings[year].append(embedding)\n",
    "\n",
    "# Calculate and store the mean of embeddings for each year\n",
    "mean_embeddings = {}\n",
    "for year, embeddings in new_embeddings.items():\n",
    "    # Convert list of embeddings to a NumPy array for easier computation\n",
    "    if embeddings:\n",
    "        embedding_array = np.stack(embeddings)\n",
    "        mean_embedding = np.mean(embedding_array, axis=0)\n",
    "        mean_embeddings[year] = mean_embedding\n",
    "    else:\n",
    "        mean_embeddings[year] = np.array([])  # Handle years with no data"
   ]
  },
  {
   "cell_type": "code",
   "execution_count": 177,
   "metadata": {},
   "outputs": [
    {
     "data": {
      "text/plain": [
       "tensor([[-0.2970,  1.0930, -0.6076,  ..., -0.5267,  0.2391,  0.0083]])"
      ]
     },
     "execution_count": 177,
     "metadata": {},
     "output_type": "execute_result"
    }
   ],
   "source": [
    "# Centroid: Ordet vi sammenlikner med\n",
    "centroid = \"sustainability\"\n",
    "centroid_embedding = model.encode(centroid, convert_to_tensor=True).reshape(1, -1)\n",
    "centroid_embedding"
   ]
  },
  {
   "cell_type": "code",
   "execution_count": 140,
   "metadata": {},
   "outputs": [],
   "source": [
    "from scipy.spatial import distance as dist\n",
    "\n",
    "def embedding_score(mean_embedding, centroid_embedding, alpha):\n",
    "    mean_embedding = np.atleast_2d(mean_embedding)\n",
    "    centroid_embedding = np.atleast_2d(centroid_embedding)\n",
    "    distances = dist.cdist(mean_embedding, centroid_embedding, 'cosine').flatten()[0]\n",
    "    score = 1 / (distances ** alpha) \n",
    "\n",
    "    return score"
   ]
  },
  {
   "cell_type": "code",
   "execution_count": 178,
   "metadata": {},
   "outputs": [
    {
     "ename": "ValueError",
     "evalue": "XA must be a 2-dimensional array.",
     "output_type": "error",
     "traceback": [
      "\u001b[0;31m---------------------------------------------------------------------------\u001b[0m",
      "\u001b[0;31mValueError\u001b[0m                                Traceback (most recent call last)",
      "Cell \u001b[0;32mIn[178], line 3\u001b[0m\n\u001b[1;32m      1\u001b[0m scores \u001b[39m=\u001b[39m {}\n\u001b[1;32m      2\u001b[0m \u001b[39mfor\u001b[39;00m year, embedding \u001b[39min\u001b[39;00m mean_embeddings\u001b[39m.\u001b[39mitems():\n\u001b[0;32m----> 3\u001b[0m     scores[year] \u001b[39m=\u001b[39m embedding_score(embedding, centroid_embedding, alpha\u001b[39m=\u001b[39m\u001b[39m1\u001b[39m)\n\u001b[1;32m      5\u001b[0m scores\n",
      "Cell \u001b[0;32mIn[159], line 4\u001b[0m, in \u001b[0;36membedding_score\u001b[0;34m(mean_embeddings, centroid_embedding, alpha)\u001b[0m\n\u001b[1;32m      3\u001b[0m \u001b[39mdef\u001b[39;00m \u001b[39membedding_score\u001b[39m(mean_embeddings, centroid_embedding,alpha):\n\u001b[0;32m----> 4\u001b[0m     distances \u001b[39m=\u001b[39m sc\u001b[39m.\u001b[39mspatial\u001b[39m.\u001b[39mdistance\u001b[39m.\u001b[39mcdist(mean_embeddings, centroid_embedding, \u001b[39m\"\u001b[39m\u001b[39mcosine\u001b[39m\u001b[39m\"\u001b[39m)\u001b[39m.\u001b[39mflatten()\n\u001b[1;32m      5\u001b[0m     score \u001b[39m=\u001b[39m \u001b[39m1\u001b[39m\u001b[39m/\u001b[39m(distances\u001b[39m*\u001b[39m\u001b[39m*\u001b[39malpha)\n\u001b[1;32m      6\u001b[0m     \u001b[39msum\u001b[39m \u001b[39m=\u001b[39m score\u001b[39m.\u001b[39msum()\n",
      "File \u001b[0;32m/opt/anaconda3/envs/embed/lib/python3.12/site-packages/scipy/spatial/distance.py:2957\u001b[0m, in \u001b[0;36mcdist\u001b[0;34m(XA, XB, metric, out, **kwargs)\u001b[0m\n\u001b[1;32m   2954\u001b[0m sB \u001b[39m=\u001b[39m XB\u001b[39m.\u001b[39mshape\n\u001b[1;32m   2956\u001b[0m \u001b[39mif\u001b[39;00m \u001b[39mlen\u001b[39m(s) \u001b[39m!=\u001b[39m \u001b[39m2\u001b[39m:\n\u001b[0;32m-> 2957\u001b[0m     \u001b[39mraise\u001b[39;00m \u001b[39mValueError\u001b[39;00m(\u001b[39m'\u001b[39m\u001b[39mXA must be a 2-dimensional array.\u001b[39m\u001b[39m'\u001b[39m)\n\u001b[1;32m   2958\u001b[0m \u001b[39mif\u001b[39;00m \u001b[39mlen\u001b[39m(sB) \u001b[39m!=\u001b[39m \u001b[39m2\u001b[39m:\n\u001b[1;32m   2959\u001b[0m     \u001b[39mraise\u001b[39;00m \u001b[39mValueError\u001b[39;00m(\u001b[39m'\u001b[39m\u001b[39mXB must be a 2-dimensional array.\u001b[39m\u001b[39m'\u001b[39m)\n",
      "\u001b[0;31mValueError\u001b[0m: XA must be a 2-dimensional array."
     ]
    }
   ],
   "source": [
    "scores = {}\n",
    "for year, embedding in mean_embeddings.items():\n",
    "    scores[year] = embedding_score(embedding, centroid_embedding, alpha=1)\n",
    "\n",
    "scores"
   ]
  },
  {
   "cell_type": "code",
   "execution_count": 139,
   "metadata": {},
   "outputs": [
    {
     "name": "stdout",
     "output_type": "stream",
     "text": [
      "[1988, 1989, 1990, 1991, 1992, 1993, 1994, 1995, 1996, 1997, 1998, 1999, 2000, 2001, 2002, 2003, 2004, 2005, 2006, 2007, 2008, 2009, 2010, 2011, 2012, 2013, 2014, 2015, 2016, 2017, 2018, 2019, 2020, 2021, 2022, 2023]\n",
      "[2.5027277898048066, 2.425028039361643, 2.564119396072544, 2.4920263181546867, 2.67910627232823, 2.676781320600522, 2.939638971216788, 3.11446940184826, 2.9713364097669346, 2.888099751610227, 2.977803094059479, 2.9632352260767436, 2.975668448681645, 2.945929779777526, 3.3553044658794318, 3.35605887648346, 3.3067296856540365, 3.1932509597206633, 3.152574090174359, 3.1976535481874224, 3.29724264397685, 3.1211391517207536, 3.1501440361153934, 3.255631914072142, 3.2722182478725332, 3.2223819508815024, 3.168463559148117, 3.0929164873233215, 3.154252233539658, 3.210265111954199, 3.1821484529226103, 3.2515470317000554, 3.234057949693418, 3.337278742804137, 3.2247891991977893, 3.4293673175183836]\n"
     ]
    },
    {
     "data": {
      "image/png": "[encoded data removed]",
      "text/plain": [
       "<Figure size 1200x600 with 1 Axes>"
      ]
     },
     "metadata": {},
     "output_type": "display_data"
    }
   ],
   "source": [
    "years = list(range(1988, 2024))\n",
    "print(years)\n",
    "\n",
    "score_values = []\n",
    "for year in scores:\n",
    "    score_values.append(scores[year])\n",
    "\n",
    "print(score_values)\n",
    "\n",
    "# Plot the scores\n",
    "plt.figure(figsize=(12, 6))\n",
    "plt.plot(years, score_values, marker='o', linestyle='-', color='blue')\n",
    "plt.title(f'Average of all annual reports compared to \"{centroid}\"')\n",
    "plt.xlabel('Year')\n",
    "plt.ylabel('Score')\n",
    "plt.grid(True)\n",
    "plt.xticks(years, rotation=45)\n",
    "plt.tight_layout()  # Adjust layout to make room for label rotation\n",
    "\n",
    "# Display the plot\n",
    "plt.show()"
   ]
  },
  {
   "cell_type": "markdown",
   "metadata": {},
   "source": [
    "## Nyhetsartikler"
   ]
  },
  {
   "cell_type": "code",
   "execution_count": 158,
   "metadata": {},
   "outputs": [],
   "source": [
    "embeddings = {}\n",
    "embeddings[\"Exxon\"] = exxon_news\n",
    "embeddings[\"AkerBP\"] = akerBP_news\n",
    "embeddings[\"Chevron\"] = chevron_news\n",
    "embeddings[\"BP\"] = BP_news\n",
    "embeddings[\"TotalEnergies\"] = totalEnergies_news\n",
    "embeddings[\"Equinor\"] = equinor_news\n",
    "# embeddings[\"PetroChina\"] = PetroChina_news\n",
    "# embeddings[\"Valero\"] = Valero_news\n",
    "# embeddings[\"RelianceIndustries\"] = RelianceIndustries_news\n",
    "# embeddings[\"CNOOC\"] = CNOOC_news\n",
    "# embeddings[\"ConocoPhillips\"] = conocophillips_news\n",
    "# embeddings[\"Enbridge\"] = enbridge_news\n",
    "# embeddings[\"EOG\"] = eog_resources_news\n",
    "# embeddings[\"Marathon\"] = marathon_news"
   ]
  },
  {
   "cell_type": "code",
   "execution_count": 159,
   "metadata": {},
   "outputs": [],
   "source": [
    "# Gir embeddingene en score basert på avstand til centroid-ordet\n",
    "\n",
    "def embedding_score(mean_embeddings, centroid_embedding,alpha):\n",
    "    distances = sc.spatial.distance.cdist(mean_embeddings, centroid_embedding, \"cosine\").flatten()\n",
    "    score = 1/(distances**alpha)\n",
    "    sum = score.sum()\n",
    "    return score/sum"
   ]
  },
  {
   "cell_type": "code",
   "execution_count": 160,
   "metadata": {},
   "outputs": [],
   "source": [
    "model = SentenceTransformer(\"mixedbread-ai/mxbai-embed-large-v1\")"
   ]
  },
  {
   "cell_type": "code",
   "execution_count": 173,
   "metadata": {},
   "outputs": [
    {
     "data": {
      "text/plain": [
       "tensor([[-0.2970,  1.0930, -0.6076,  ..., -0.5267,  0.2391,  0.0083]])"
      ]
     },
     "execution_count": 173,
     "metadata": {},
     "output_type": "execute_result"
    }
   ],
   "source": [
    "# Centroid: Ordet vi sammenlikner med\n",
    "centroid = \"Sustainability\"\n",
    "centroid_embedding = model.encode(centroid, convert_to_tensor=True).reshape(1, -1)\n",
    "centroid_embedding"
   ]
  },
  {
   "cell_type": "code",
   "execution_count": 163,
   "metadata": {},
   "outputs": [
    {
     "data": {
      "text/plain": [
       "tensor([[-0.2754,  0.8248, -0.9043,  ..., -0.7387, -0.2834, -0.2149]])"
      ]
     },
     "execution_count": 163,
     "metadata": {},
     "output_type": "execute_result"
    }
   ],
   "source": [
    "# Centroid: Ordet vi sammenlikner med\n",
    "centroid = \"At Our Company, we recognize the urgent need for climate action. As a leading player in the energy sector, we are committed to being part of the solution to global climate change. We understand the critical role we play and are taking decisive steps to reduce our carbon footprint and embrace renewable energy sources. Our dedication to cutting CO2 emissions is unwavering. We are actively investing in cutting-edge technologies and innovative practices to minimize our environmental impact. Our goal is to significantly reduce our greenhouse gas emissions in the coming years, contributing to a healthier planet for future generations. Transitioning to renewable energy is at the heart of our sustainability strategy. We are expanding our portfolio to include wind, solar, and other green energy sources, ensuring a diverse and sustainable energy mix. This transition not only supports global efforts to combat climate change but also positions Our Company as a leader in the new energy economy. We are thinking about the future and are committed to exploring all possibilities for a greener tomorrow. Our initiatives include enhancing energy efficiency, investing in research and development, and collaborating with stakeholders to create sustainable solutions. We believe that by working together, we can make a significant impact. At Our Company, our vision for the future is clear: a world where energy needs are met without compromising the health of our planet. We are dedicated to driving change, fostering innovation, and leading by example in the fight against climate change. Together, we can build a sustainable future. Join us on this journey towards a greener, more resilient world.\"\n",
    "centroid_embedding = model.encode(centroid, convert_to_tensor=True).reshape(1, -1)\n",
    "centroid_embedding"
   ]
  },
  {
   "cell_type": "code",
   "execution_count": 174,
   "metadata": {},
   "outputs": [
    {
     "data": {
      "text/plain": [
       "{'Exxon': [0.08601454772322395,\n",
       "  0.08694591668600507,\n",
       "  0.07867809629284847,\n",
       "  0.08690697574380599,\n",
       "  0.12986316733041997,\n",
       "  0.15855330296978065,\n",
       "  0.14128687984349922,\n",
       "  0.11507474319514398,\n",
       "  0.11667637021527263],\n",
       " 'AkerBP': [0.06540684279312063,\n",
       "  0.07286727968538637,\n",
       "  0.0802741552074749,\n",
       "  0.10604961113554337,\n",
       "  0.08421334829557903,\n",
       "  0.15398543373673143,\n",
       "  0.13769194827731715,\n",
       "  0.16887216146541686,\n",
       "  0.1306392194034302],\n",
       " 'Chevron': [0.06835393333336781,\n",
       "  0.07907023123934323,\n",
       "  0.06435927093787318,\n",
       "  0.09843349676100227,\n",
       "  0.15229681163452732,\n",
       "  0.23487737882686546,\n",
       "  0.16283610740260154,\n",
       "  0.13977276986441908],\n",
       " 'BP': [0.04150788669373451,\n",
       "  0.06413426456530842,\n",
       "  0.055193576399579204,\n",
       "  0.07143801944232178,\n",
       "  0.059828435830245254,\n",
       "  0.0527135749513008,\n",
       "  0.04968339802096846,\n",
       "  0.04956161305732136,\n",
       "  0.05561153015768236,\n",
       "  0.09749446000508602,\n",
       "  0.07952015398575557,\n",
       "  0.10833010206013581,\n",
       "  0.07939814648044256,\n",
       "  0.07428954255738207,\n",
       "  0.061295295792735814],\n",
       " 'TotalEnergies': [0.022176957767944375,\n",
       "  0.1371021944840475,\n",
       "  0.07735188377704505,\n",
       "  0.08266483976720294,\n",
       "  0.0712148287742152,\n",
       "  0.10573110918080626,\n",
       "  0.13168313795003053,\n",
       "  0.08711478909342583,\n",
       "  0.15916374399428643,\n",
       "  0.12579651521099586],\n",
       " 'Equinor': [0.032622298835063845,\n",
       "  0.03326479857790355,\n",
       "  0.031180062454130214,\n",
       "  0.04043949147650213,\n",
       "  0.03671064692330895,\n",
       "  0.032938857253890425,\n",
       "  0.04215919205106018,\n",
       "  0.04156759789806867,\n",
       "  0.048182389265852624,\n",
       "  0.04273779996454764,\n",
       "  0.04714182868760432,\n",
       "  0.05208145198675512,\n",
       "  0.03302213183087396,\n",
       "  0.03274888086876768,\n",
       "  0.03598939721694162,\n",
       "  0.032859101754539106,\n",
       "  0.03744555644096289,\n",
       "  0.04303218105230035,\n",
       "  0.030270877771245347,\n",
       "  0.03237775820115989,\n",
       "  0.03739951898390859,\n",
       "  0.02835260831061016,\n",
       "  0.04601458134863198,\n",
       "  0.043369826433768015,\n",
       "  0.040412988575720274,\n",
       "  0.016983401089026327,\n",
       "  0.028694774746856]}"
      ]
     },
     "execution_count": 174,
     "metadata": {},
     "output_type": "execute_result"
    }
   ],
   "source": [
    "# Compute the scores for each company\n",
    "alpha = 5\n",
    "scores = {}\n",
    "for company, emb_list in embeddings.items():\n",
    "    scores[company] = embedding_score(emb_list, centroid_embedding, alpha).tolist()\n",
    "\n",
    "scores"
   ]
  },
  {
   "cell_type": "code",
   "execution_count": 166,
   "metadata": {},
   "outputs": [],
   "source": [
    "# Define the years for each company\n",
    "years = {\n",
    "    'Exxon': list(range(2016, 2025)),\n",
    "    'AkerBP': list(range(2016, 2025)),\n",
    "    'Chevron': list(range(2017,2025)),\n",
    "    'BP': list(range(2010,2025)),\n",
    "    'TotalEnergies': list(range(2015,2025)),\n",
    "    'Equinor': list(range(1998,2025))\n",
    "    # 'PetroChina': list(range(2016,2024)),\n",
    "    # 'Valero': list(range(2002,2023)),\n",
    "    # 'RelianceIndustries': list(range(1988,2024)),\n",
    "    # 'CNOOC': list(range(2015,2024)),\n",
    "    # 'ConocoPhillips': list(range(2005,2024)),\n",
    "    # 'Enbridge': list(range(2011,2024)),\n",
    "    # 'EOG': list(range(1999,2024)),\n",
    "    # 'Marathon': list(range(2011,2024))\n",
    "}\n",
    "\n",
    "# Prepare data for plotting\n",
    "plot_data = {\n",
    "    'Exxon': scores['Exxon'],\n",
    "    'AkerBP': scores['AkerBP'],\n",
    "    'Chevron': scores['Chevron'],\n",
    "    'BP': scores['BP'],\n",
    "    'TotalEnergies': scores['TotalEnergies'],\n",
    "    'Equinor': scores['Equinor']\n",
    "    # 'PetroChina': scores['PetroChina'],\n",
    "    # 'Valero': scores['Valero'],\n",
    "    # 'RelianceIndustries': scores['RelianceIndustries'],\n",
    "    # 'CNOOC': scores['CNOOC'],\n",
    "    # 'ConocoPhillips': scores['ConocoPhillips'],\n",
    "    # 'Enbridge': scores['Enbridge'],\n",
    "    # 'EOG': scores['EOG'],\n",
    "    # 'Marathon': scores['Marathon']\n",
    "}"
   ]
  },
  {
   "cell_type": "code",
   "execution_count": 170,
   "metadata": {},
   "outputs": [
    {
     "data": {
      "image/png": "[encoded data removed]",
      "text/plain": [
       "<Figure size 1000x500 with 1 Axes>"
      ]
     },
     "metadata": {},
     "output_type": "display_data"
    }
   ],
   "source": [
    "import matplotlib.cm as cm\n",
    "\n",
    "# Combine all years into a single list and remove duplicates\n",
    "all_years = sorted(set(year for company_years in years.values() for year in company_years))\n",
    "\n",
    "# Define the colors and labels for each company\n",
    "num_companies = len(plot_data)\n",
    "colors = cm.tab20(np.linspace(0, 1, num_companies))\n",
    "labels = list(plot_data.keys())\n",
    "\n",
    "if len(centroid) > 30:\n",
    "    title = centroid[:31]\n",
    "else:\n",
    "    title = centroid\n",
    "\n",
    "plt.figure(figsize=(10, 5))\n",
    "plt.title(f'Nyhetsartikler and \"{title}\"')\n",
    "plt.xlabel('Year')\n",
    "plt.ylabel('Score')\n",
    "plt.grid(True)\n",
    "\n",
    "# Plot the scores for each company\n",
    "for i, (company, color) in enumerate(zip(plot_data.keys(), colors)):\n",
    "    plt.plot(years[company], plot_data[company], color=color, label=company)\n",
    "\n",
    "# Customize x-axis ticks to show all years\n",
    "plt.xticks(all_years, rotation=45, ha='right')\n",
    "\n",
    "# Show legend\n",
    "plt.legend()\n",
    "\n",
    "# Show the plot\n",
    "plt.show()"
   ]
  },
  {
   "cell_type": "code",
   "execution_count": 72,
   "metadata": {},
   "outputs": [
    {
     "data": {
      "application/vnd.plotly.v1+json": {
       "config": {
        "plotlyServerURL": "https://plot.ly"
       },
       "data": [
        {
         "mode": "lines+markers",
         "name": "Exxon",
         "type": "scatter",
         "x": [
          2016,
          2017,
          2018,
          2019,
          2020,
          2021,
          2022,
          2023,
          2024
         ],
         "y": [
          0.10112059456315027,
          0.09229515638183974,
          0.08661051741496938,
          0.09475076651697693,
          0.14206033289201092,
          0.11516146451387235,
          0.10994692607539068,
          0.12791881385047366,
          0.13013542779131607
         ]
        },
        {
         "mode": "lines+markers",
         "name": "AkerBP",
         "type": "scatter",
         "x": [
          2016,
          2017,
          2018,
          2019,
          2020,
          2021,
          2022,
          2023,
          2024
         ],
         "y": [
          0.09828493506808265,
          0.1044703797994928,
          0.09506771628405057,
          0.11231072431205721,
          0.11389648288676699,
          0.12629240478797366,
          0.10027703009384799,
          0.13859744890886022,
          0.11080287785886796
         ]
        },
        {
         "mode": "lines+markers",
         "name": "Chevron",
         "type": "scatter",
         "x": [
          2017,
          2018,
          2019,
          2020,
          2021,
          2022,
          2023,
          2024
         ],
         "y": [
          0.09121245870553116,
          0.11132420317900646,
          0.10262117192363139,
          0.11137179369550952,
          0.15290550056470734,
          0.13750867207237313,
          0.13098901930492984,
          0.16206718055431119
         ]
        },
        {
         "mode": "lines+markers",
         "name": "BP",
         "type": "scatter",
         "x": [
          2010,
          2011,
          2012,
          2013,
          2014,
          2015,
          2016,
          2017,
          2018,
          2019,
          2020,
          2021,
          2022,
          2023,
          2024
         ],
         "y": [
          0.0672131573926498,
          0.07865467402828466,
          0.06294350622234698,
          0.0821709850743626,
          0.07161842211292666,
          0.07095987806685984,
          0.06061446212718697,
          0.05763541598661499,
          0.06275603024955065,
          0.059821570425305934,
          0.0736360893350557,
          0.06456680956538531,
          0.06333862802930414,
          0.06512915997314173,
          0.058941211411024014
         ]
        },
        {
         "mode": "lines+markers",
         "name": "TotalEnergies",
         "type": "scatter",
         "x": [
          2015,
          2016,
          2017,
          2018,
          2019,
          2020,
          2021,
          2022,
          2023,
          2024
         ],
         "y": [
          0.03920978836366914,
          0.14642915276454121,
          0.10347965532890155,
          0.12197969310174504,
          0.10355445001255309,
          0.10645271471319226,
          0.09992336748490302,
          0.0884786307473153,
          0.09573196607832764,
          0.0947605814048516
         ]
        },
        {
         "mode": "lines+markers",
         "name": "Equinor",
         "type": "scatter",
         "x": [
          1998,
          1999,
          2000,
          2001,
          2002,
          2003,
          2004,
          2005,
          2006,
          2007,
          2008,
          2009,
          2010,
          2011,
          2012,
          2013,
          2014,
          2015,
          2016,
          2017,
          2018,
          2019,
          2020,
          2021,
          2022,
          2023,
          2024
         ],
         "y": [
          0.04528697701763954,
          0.04013396263759758,
          0.04068554371477657,
          0.038006692871916624,
          0.03455718248890063,
          0.029305028798328508,
          0.036522876576951524,
          0.03654739242134266,
          0.03727582350460969,
          0.039177175258808844,
          0.047523247462438835,
          0.05028739353775057,
          0.04333852365705366,
          0.03921369650335341,
          0.03801201846560942,
          0.03651870585752692,
          0.040131280481226383,
          0.03700934839623994,
          0.03525307043369761,
          0.033399269643911364,
          0.033031479617944635,
          0.03143720072953246,
          0.03783502373279062,
          0.03495809749537685,
          0.030613429673419994,
          0.024626437781872634,
          0.02931312123938253
         ]
        }
       ],
       "layout": {
        "hovermode": "x unified",
        "template": {
         "data": {
          "bar": [
           {
            "error_x": {
             "color": "#2a3f5f"
            },
            "error_y": {
             "color": "#2a3f5f"
            },
            "marker": {
             "line": {
              "color": "#E5ECF6",
              "width": 0.5
             },
             "pattern": {
              "fillmode": "overlay",
              "size": 10,
              "solidity": 0.2
             }
            },
            "type": "bar"
           }
          ],
          "barpolar": [
           {
            "marker": {
             "line": {
              "color": "#E5ECF6",
              "width": 0.5
             },
             "pattern": {
              "fillmode": "overlay",
              "size": 10,
              "solidity": 0.2
             }
            },
            "type": "barpolar"
           }
          ],
          "carpet": [
           {
            "aaxis": {
             "endlinecolor": "#2a3f5f",
             "gridcolor": "white",
             "linecolor": "white",
             "minorgridcolor": "white",
             "startlinecolor": "#2a3f5f"
            },
            "baxis": {
             "endlinecolor": "#2a3f5f",
             "gridcolor": "white",
             "linecolor": "white",
             "minorgridcolor": "white",
             "startlinecolor": "#2a3f5f"
            },
            "type": "carpet"
           }
          ],
          "choropleth": [
           {
            "colorbar": {
             "outlinewidth": 0,
             "ticks": ""
            },
            "type": "choropleth"
           }
          ],
          "contour": [
           {
            "colorbar": {
             "outlinewidth": 0,
             "ticks": ""
            },
            "colorscale": [
             [
              0,
              "#0d0887"
             ],
             [
              0.1111111111111111,
              "#46039f"
             ],
             [
              0.2222222222222222,
              "#7201a8"
             ],
             [
              0.3333333333333333,
              "#9c179e"
             ],
             [
              0.4444444444444444,
              "#bd3786"
             ],
             [
              0.5555555555555556,
              "#d8576b"
             ],
             [
              0.6666666666666666,
              "#ed7953"
             ],
             [
              0.7777777777777778,
              "#fb9f3a"
             ],
             [
              0.8888888888888888,
              "#fdca26"
             ],
             [
              1,
              "#f0f921"
             ]
            ],
            "type": "contour"
           }
          ],
          "contourcarpet": [
           {
            "colorbar": {
             "outlinewidth": 0,
             "ticks": ""
            },
            "type": "contourcarpet"
           }
          ],
          "heatmap": [
           {
            "colorbar": {
             "outlinewidth": 0,
             "ticks": ""
            },
            "colorscale": [
             [
              0,
              "#0d0887"
             ],
             [
              0.1111111111111111,
              "#46039f"
             ],
             [
              0.2222222222222222,
              "#7201a8"
             ],
             [
              0.3333333333333333,
              "#9c179e"
             ],
             [
              0.4444444444444444,
              "#bd3786"
             ],
             [
              0.5555555555555556,
              "#d8576b"
             ],
             [
              0.6666666666666666,
              "#ed7953"
             ],
             [
              0.7777777777777778,
              "#fb9f3a"
             ],
             [
              0.8888888888888888,
              "#fdca26"
             ],
             [
              1,
              "#f0f921"
             ]
            ],
            "type": "heatmap"
           }
          ],
          "heatmapgl": [
           {
            "colorbar": {
             "outlinewidth": 0,
             "ticks": ""
            },
            "colorscale": [
             [
              0,
              "#0d0887"
             ],
             [
              0.1111111111111111,
              "#46039f"
             ],
             [
              0.2222222222222222,
              "#7201a8"
             ],
             [
              0.3333333333333333,
              "#9c179e"
             ],
             [
              0.4444444444444444,
              "#bd3786"
             ],
             [
              0.5555555555555556,
              "#d8576b"
             ],
             [
              0.6666666666666666,
              "#ed7953"
             ],
             [
              0.7777777777777778,
              "#fb9f3a"
             ],
             [
              0.8888888888888888,
              "#fdca26"
             ],
             [
              1,
              "#f0f921"
             ]
            ],
            "type": "heatmapgl"
           }
          ],
          "histogram": [
           {
            "marker": {
             "pattern": {
              "fillmode": "overlay",
              "size": 10,
              "solidity": 0.2
             }
            },
            "type": "histogram"
           }
          ],
          "histogram2d": [
           {
            "colorbar": {
             "outlinewidth": 0,
             "ticks": ""
            },
            "colorscale": [
             [
              0,
              "#0d0887"
             ],
             [
              0.1111111111111111,
              "#46039f"
             ],
             [
              0.2222222222222222,
              "#7201a8"
             ],
             [
              0.3333333333333333,
              "#9c179e"
             ],
             [
              0.4444444444444444,
              "#bd3786"
             ],
             [
              0.5555555555555556,
              "#d8576b"
             ],
             [
              0.6666666666666666,
              "#ed7953"
             ],
             [
              0.7777777777777778,
              "#fb9f3a"
             ],
             [
              0.8888888888888888,
              "#fdca26"
             ],
             [
              1,
              "#f0f921"
             ]
            ],
            "type": "histogram2d"
           }
          ],
          "histogram2dcontour": [
           {
            "colorbar": {
             "outlinewidth": 0,
             "ticks": ""
            },
            "colorscale": [
             [
              0,
              "#0d0887"
             ],
             [
              0.1111111111111111,
              "#46039f"
             ],
             [
              0.2222222222222222,
              "#7201a8"
             ],
             [
              0.3333333333333333,
              "#9c179e"
             ],
             [
              0.4444444444444444,
              "#bd3786"
             ],
             [
              0.5555555555555556,
              "#d8576b"
             ],
             [
              0.6666666666666666,
              "#ed7953"
             ],
             [
              0.7777777777777778,
              "#fb9f3a"
             ],
             [
              0.8888888888888888,
              "#fdca26"
             ],
             [
              1,
              "#f0f921"
             ]
            ],
            "type": "histogram2dcontour"
           }
          ],
          "mesh3d": [
           {
            "colorbar": {
             "outlinewidth": 0,
             "ticks": ""
            },
            "type": "mesh3d"
           }
          ],
          "parcoords": [
           {
            "line": {
             "colorbar": {
              "outlinewidth": 0,
              "ticks": ""
             }
            },
            "type": "parcoords"
           }
          ],
          "pie": [
           {
            "automargin": true,
            "type": "pie"
           }
          ],
          "scatter": [
           {
            "fillpattern": {
             "fillmode": "overlay",
             "size": 10,
             "solidity": 0.2
            },
            "type": "scatter"
           }
          ],
          "scatter3d": [
           {
            "line": {
             "colorbar": {
              "outlinewidth": 0,
              "ticks": ""
             }
            },
            "marker": {
             "colorbar": {
              "outlinewidth": 0,
              "ticks": ""
             }
            },
            "type": "scatter3d"
           }
          ],
          "scattercarpet": [
           {
            "marker": {
             "colorbar": {
              "outlinewidth": 0,
              "ticks": ""
             }
            },
            "type": "scattercarpet"
           }
          ],
          "scattergeo": [
           {
            "marker": {
             "colorbar": {
              "outlinewidth": 0,
              "ticks": ""
             }
            },
            "type": "scattergeo"
           }
          ],
          "scattergl": [
           {
            "marker": {
             "colorbar": {
              "outlinewidth": 0,
              "ticks": ""
             }
            },
            "type": "scattergl"
           }
          ],
          "scattermapbox": [
           {
            "marker": {
             "colorbar": {
              "outlinewidth": 0,
              "ticks": ""
             }
            },
            "type": "scattermapbox"
           }
          ],
          "scatterpolar": [
           {
            "marker": {
             "colorbar": {
              "outlinewidth": 0,
              "ticks": ""
             }
            },
            "type": "scatterpolar"
           }
          ],
          "scatterpolargl": [
           {
            "marker": {
             "colorbar": {
              "outlinewidth": 0,
              "ticks": ""
             }
            },
            "type": "scatterpolargl"
           }
          ],
          "scatterternary": [
           {
            "marker": {
             "colorbar": {
              "outlinewidth": 0,
              "ticks": ""
             }
            },
            "type": "scatterternary"
           }
          ],
          "surface": [
           {
            "colorbar": {
             "outlinewidth": 0,
             "ticks": ""
            },
            "colorscale": [
             [
              0,
              "#0d0887"
             ],
             [
              0.1111111111111111,
              "#46039f"
             ],
             [
              0.2222222222222222,
              "#7201a8"
             ],
             [
              0.3333333333333333,
              "#9c179e"
             ],
             [
              0.4444444444444444,
              "#bd3786"
             ],
             [
              0.5555555555555556,
              "#d8576b"
             ],
             [
              0.6666666666666666,
              "#ed7953"
             ],
             [
              0.7777777777777778,
              "#fb9f3a"
             ],
             [
              0.8888888888888888,
              "#fdca26"
             ],
             [
              1,
              "#f0f921"
             ]
            ],
            "type": "surface"
           }
          ],
          "table": [
           {
            "cells": {
             "fill": {
              "color": "#EBF0F8"
             },
             "line": {
              "color": "white"
             }
            },
            "header": {
             "fill": {
              "color": "#C8D4E3"
             },
             "line": {
              "color": "white"
             }
            },
            "type": "table"
           }
          ]
         },
         "layout": {
          "annotationdefaults": {
           "arrowcolor": "#2a3f5f",
           "arrowhead": 0,
           "arrowwidth": 1
          },
          "autotypenumbers": "strict",
          "coloraxis": {
           "colorbar": {
            "outlinewidth": 0,
            "ticks": ""
           }
          },
          "colorscale": {
           "diverging": [
            [
             0,
             "#8e0152"
            ],
            [
             0.1,
             "#c51b7d"
            ],
            [
             0.2,
             "#de77ae"
            ],
            [
             0.3,
             "#f1b6da"
            ],
            [
             0.4,
             "#fde0ef"
            ],
            [
             0.5,
             "#f7f7f7"
            ],
            [
             0.6,
             "#e6f5d0"
            ],
            [
             0.7,
             "#b8e186"
            ],
            [
             0.8,
             "#7fbc41"
            ],
            [
             0.9,
             "#4d9221"
            ],
            [
             1,
             "#276419"
            ]
           ],
           "sequential": [
            [
             0,
             "#0d0887"
            ],
            [
             0.1111111111111111,
             "#46039f"
            ],
            [
             0.2222222222222222,
             "#7201a8"
            ],
            [
             0.3333333333333333,
             "#9c179e"
            ],
            [
             0.4444444444444444,
             "#bd3786"
            ],
            [
             0.5555555555555556,
             "#d8576b"
            ],
            [
             0.6666666666666666,
             "#ed7953"
            ],
            [
             0.7777777777777778,
             "#fb9f3a"
            ],
            [
             0.8888888888888888,
             "#fdca26"
            ],
            [
             1,
             "#f0f921"
            ]
           ],
           "sequentialminus": [
            [
             0,
             "#0d0887"
            ],
            [
             0.1111111111111111,
             "#46039f"
            ],
            [
             0.2222222222222222,
             "#7201a8"
            ],
            [
             0.3333333333333333,
             "#9c179e"
            ],
            [
             0.4444444444444444,
             "#bd3786"
            ],
            [
             0.5555555555555556,
             "#d8576b"
            ],
            [
             0.6666666666666666,
             "#ed7953"
            ],
            [
             0.7777777777777778,
             "#fb9f3a"
            ],
            [
             0.8888888888888888,
             "#fdca26"
            ],
            [
             1,
             "#f0f921"
            ]
           ]
          },
          "colorway": [
           "#636efa",
           "#EF553B",
           "#00cc96",
           "#ab63fa",
           "#FFA15A",
           "#19d3f3",
           "#FF6692",
           "#B6E880",
           "#FF97FF",
           "#FECB52"
          ],
          "font": {
           "color": "#2a3f5f"
          },
          "geo": {
           "bgcolor": "white",
           "lakecolor": "white",
           "landcolor": "#E5ECF6",
           "showlakes": true,
           "showland": true,
           "subunitcolor": "white"
          },
          "hoverlabel": {
           "align": "left"
          },
          "hovermode": "closest",
          "mapbox": {
           "style": "light"
          },
          "paper_bgcolor": "white",
          "plot_bgcolor": "#E5ECF6",
          "polar": {
           "angularaxis": {
            "gridcolor": "white",
            "linecolor": "white",
            "ticks": ""
           },
           "bgcolor": "#E5ECF6",
           "radialaxis": {
            "gridcolor": "white",
            "linecolor": "white",
            "ticks": ""
           }
          },
          "scene": {
           "xaxis": {
            "backgroundcolor": "#E5ECF6",
            "gridcolor": "white",
            "gridwidth": 2,
            "linecolor": "white",
            "showbackground": true,
            "ticks": "",
            "zerolinecolor": "white"
           },
           "yaxis": {
            "backgroundcolor": "#E5ECF6",
            "gridcolor": "white",
            "gridwidth": 2,
            "linecolor": "white",
            "showbackground": true,
            "ticks": "",
            "zerolinecolor": "white"
           },
           "zaxis": {
            "backgroundcolor": "#E5ECF6",
            "gridcolor": "white",
            "gridwidth": 2,
            "linecolor": "white",
            "showbackground": true,
            "ticks": "",
            "zerolinecolor": "white"
           }
          },
          "shapedefaults": {
           "line": {
            "color": "#2a3f5f"
           }
          },
          "ternary": {
           "aaxis": {
            "gridcolor": "white",
            "linecolor": "white",
            "ticks": ""
           },
           "baxis": {
            "gridcolor": "white",
            "linecolor": "white",
            "ticks": ""
           },
           "bgcolor": "#E5ECF6",
           "caxis": {
            "gridcolor": "white",
            "linecolor": "white",
            "ticks": ""
           }
          },
          "title": {
           "x": 0.05
          },
          "xaxis": {
           "automargin": true,
           "gridcolor": "white",
           "linecolor": "white",
           "ticks": "",
           "title": {
            "standoff": 15
           },
           "zerolinecolor": "white",
           "zerolinewidth": 2
          },
          "yaxis": {
           "automargin": true,
           "gridcolor": "white",
           "linecolor": "white",
           "ticks": "",
           "title": {
            "standoff": 15
           },
           "zerolinecolor": "white",
           "zerolinewidth": 2
          }
         }
        },
        "title": {
         "text": "Nyhetsartikler vs. recession"
        },
        "xaxis": {
         "tickmode": "array",
         "tickvals": [
          1998,
          1999,
          2000,
          2001,
          2002,
          2003,
          2004,
          2005,
          2006,
          2007,
          2008,
          2009,
          2010,
          2011,
          2012,
          2013,
          2014,
          2015,
          2016,
          2017,
          2018,
          2019,
          2020,
          2021,
          2022,
          2023,
          2024
         ],
         "title": {
          "text": "Year"
         }
        },
        "yaxis": {
         "tickmode": "linear",
         "title": {
          "text": "Score"
         }
        }
       }
      }
     },
     "metadata": {},
     "output_type": "display_data"
    }
   ],
   "source": [
    "import plotly.graph_objects as go\n",
    "\n",
    "# Combine all years into a single list and remove duplicates\n",
    "all_years = sorted(set(year for company_years in years.values() for year in company_years))\n",
    "\n",
    "# Create a plotly figure\n",
    "fig = go.Figure()\n",
    "\n",
    "# Plot the scores for each company\n",
    "for company in plot_data.keys():\n",
    "    fig.add_trace(go.Scatter(\n",
    "        x=years[company],\n",
    "        y=plot_data[company],\n",
    "        mode='lines+markers',\n",
    "        name=company\n",
    "    ))\n",
    "\n",
    "if len(centroid) > 30:\n",
    "    title = centroid[:31]\n",
    "else:\n",
    "    title = centroid\n",
    "\n",
    "# Customize the layout\n",
    "fig.update_layout(\n",
    "    title=f'Nyhetsartikler vs. {title}',\n",
    "    xaxis_title='Year',\n",
    "    yaxis_title='Score',\n",
    "    xaxis=dict(tickmode='array', tickvals=all_years),\n",
    "    yaxis=dict(tickmode='linear'),\n",
    "    hovermode='x unified'\n",
    ")\n",
    "\n",
    "# Show the plot\n",
    "fig.show()"
   ]
  },
  {
   "cell_type": "markdown",
   "metadata": {},
   "source": [
    "## Plotting"
   ]
  },
  {
   "cell_type": "code",
   "execution_count": null,
   "metadata": {},
   "outputs": [],
   "source": [
    "## Initialization:\n",
    "\n",
    "embeddings = {}\n",
    "years = {}\n",
    "plot_data = {}\n",
    "\n",
    "def embedding_score(mean_embeddings, centroid_embedding,alpha):\n",
    "    distances = sc.spatial.distance.cdist(mean_embeddings, centroid_embedding, \"cosine\").flatten()\n",
    "    score = 1/(distances**alpha)\n",
    "    sum = score.sum()\n",
    "    return score/sum\n",
    "\n",
    "# Centroid: Ordet vi sammenlikner med\n",
    "centroid = \"At Our Company, we recognize the urgent need for climate action. As a leading player in the energy sector, we are committed to being part of the solution to global climate change. We understand the critical role we play and are taking decisive steps to reduce our carbon footprint and embrace renewable energy sources. Our dedication to cutting CO2 emissions is unwavering. We are actively investing in cutting-edge technologies and innovative practices to minimize our environmental impact. Our goal is to significantly reduce our greenhouse gas emissions in the coming years, contributing to a healthier planet for future generations. Transitioning to renewable energy is at the heart of our sustainability strategy. We are expanding our portfolio to include wind, solar, and other green energy sources, ensuring a diverse and sustainable energy mix. This transition not only supports global efforts to combat climate change but also positions Our Company as a leader in the new energy economy. We are thinking about the future and are committed to exploring all possibilities for a greener tomorrow. Our initiatives include enhancing energy efficiency, investing in research and development, and collaborating with stakeholders to create sustainable solutions. We believe that by working together, we can make a significant impact. At Our Company, our vision for the future is clear: a world where energy needs are met without compromising the health of our planet. We are dedicated to driving change, fostering innovation, and leading by example in the fight against climate change. Together, we can build a sustainable future. Join us on this journey towards a greener, more resilient world.\"\n",
    "centroid_embedding = model.encode(centroid, convert_to_tensor=True).reshape(1, -1)\n",
    "centroid_embedding\n",
    "\n",
    "# Compute the scores for each company\n",
    "def compute_scores():\n",
    "    alpha = 5\n",
    "    scores = {}\n",
    "    for company, emb_list in embeddings.items():\n",
    "        scores[company] = embedding_score(emb_list, centroid_embedding, alpha).tolist()\n",
    "    return scores\n"
   ]
  },
  {
   "cell_type": "code",
   "execution_count": null,
   "metadata": {},
   "outputs": [],
   "source": [
    "def add_to_plot(company_name, embedding, start_year, end_year):\n",
    "    embeddings[company_name] = embedding\n",
    "    years[company_name] = list(range(start_year,end_year+1))\n",
    "    scores = compute_scores()\n",
    "    plot_data[company_name] = scores[company_name]"
   ]
  },
  {
   "cell_type": "markdown",
   "metadata": {},
   "source": [
    "## Andre sammenlikninger"
   ]
  },
  {
   "cell_type": "code",
   "execution_count": 191,
   "metadata": {},
   "outputs": [
    {
     "data": {
      "text/plain": [
       "{'Exxon': [0.0458503238982617,\n",
       "  0.04279822279476644,\n",
       "  0.042839869288355065,\n",
       "  0.04505624797755934,\n",
       "  0.048261948220970886,\n",
       "  0.0458908164675468,\n",
       "  0.05128385627430831,\n",
       "  0.054799165886927015,\n",
       "  0.05525602058135024,\n",
       "  0.0517101844044448,\n",
       "  0.04969078106362861,\n",
       "  0.05504071456569372,\n",
       "  0.05114098748539195,\n",
       "  0.051494915891200005,\n",
       "  0.05208977735727358,\n",
       "  0.05630091326134962,\n",
       "  0.06310207764675013,\n",
       "  0.06812724674300272,\n",
       "  0.06926593019121904],\n",
       " 'AkerBP': [0.05883655194549598,\n",
       "  0.04715300784942902,\n",
       "  0.054520963847942416,\n",
       "  0.0676256727463997,\n",
       "  0.07519290924712868,\n",
       "  0.06281376814922622,\n",
       "  0.05567894617540647,\n",
       "  0.04989467249825375,\n",
       "  0.06399744762345069,\n",
       "  0.058029625132919996,\n",
       "  0.061982316616699396,\n",
       "  0.06834825061818761,\n",
       "  0.0773676074639296,\n",
       "  0.07153668660619726,\n",
       "  0.12702157347933327],\n",
       " 'Chevron': [0.03289249569555908,\n",
       "  0.026910917894697912,\n",
       "  0.029841238805429444,\n",
       "  0.041806762215937175,\n",
       "  0.0335416731544095,\n",
       "  0.030399289020682705,\n",
       "  0.04483187252073501,\n",
       "  0.04847035841157117,\n",
       "  0.06673415395529488,\n",
       "  0.055292323110906226,\n",
       "  0.0412587199525437,\n",
       "  0.046186857697922044,\n",
       "  0.035138208322314755,\n",
       "  0.042734525413403446,\n",
       "  0.03417261974258145,\n",
       "  0.030940156462202148,\n",
       "  0.029841665438652878,\n",
       "  0.030010324616156523,\n",
       "  0.031083895733823447,\n",
       "  0.02763766943963953,\n",
       "  0.02567754697715581,\n",
       "  0.027245669371650676,\n",
       "  0.008371286292841668,\n",
       "  0.01607665618106413,\n",
       "  0.01422208078820688,\n",
       "  0.02553378689573796,\n",
       "  0.01543845692029156,\n",
       "  0.05693263031806083,\n",
       "  0.050776158650527564],\n",
       " 'BP': [0.05421262406675175,\n",
       "  0.0551652366869122,\n",
       "  0.056795168375964766,\n",
       "  0.057530883799365884,\n",
       "  0.04894193413343051,\n",
       "  0.07074196780090898,\n",
       "  0.07673605929520581,\n",
       "  0.0689196181908542,\n",
       "  0.05264438205664347,\n",
       "  0.09407380568640733,\n",
       "  0.09518732569271202,\n",
       "  0.09616225399492129,\n",
       "  0.08410124456429503,\n",
       "  0.08878749565562677],\n",
       " 'PetroChina': [0.23134944797314208,\n",
       "  0.09802988279683043,\n",
       "  0.0855530017291543,\n",
       "  0.12442598556875682,\n",
       "  0.12443756705163503,\n",
       "  0.12067634707995233,\n",
       "  0.10129614377748268,\n",
       "  0.11423162402304628],\n",
       " 'Valero': [0.030231626898866645,\n",
       "  0.0316786915490278,\n",
       "  0.03329418620884038,\n",
       "  0.042161213431325714,\n",
       "  0.0513412518975786,\n",
       "  0.07296910965291313,\n",
       "  0.08218932484978896,\n",
       "  0.08915694843613904,\n",
       "  0.06721442664415705,\n",
       "  0.03190172777017403,\n",
       "  0.02748817813987098,\n",
       "  0.028603653230031865,\n",
       "  0.032288514900204734,\n",
       "  0.03569224474079725,\n",
       "  0.03700664195285464,\n",
       "  0.0354178857080103,\n",
       "  0.03805725262932372,\n",
       "  0.040501764671283955,\n",
       "  0.0542614333333546,\n",
       "  0.06454401722896849,\n",
       "  0.073999906126488],\n",
       " 'RelianceIndustries': [0.01162024633603072,\n",
       "  0.009469175228403407,\n",
       "  0.013313392718815972,\n",
       "  0.011329560900404297,\n",
       "  0.014557083810433424,\n",
       "  0.015505855438542389,\n",
       "  0.02611393941055108,\n",
       "  0.028331810694121332,\n",
       "  0.020329090003822135,\n",
       "  0.015550160261355674,\n",
       "  0.018028627409246704,\n",
       "  0.019058658926756362,\n",
       "  0.012403637380572843,\n",
       "  0.013175432743986313,\n",
       "  0.01968586911068469,\n",
       "  0.022889185802161212,\n",
       "  0.02088479667512949,\n",
       "  0.021931061027300157,\n",
       "  0.020257503037172022,\n",
       "  0.02563381175812314,\n",
       "  0.02676518742078672,\n",
       "  0.02922367886469739,\n",
       "  0.028644329767654398,\n",
       "  0.016214553905693506,\n",
       "  0.056557882095672495,\n",
       "  0.015649135066141826,\n",
       "  0.030213723054136037,\n",
       "  0.06105556354835184,\n",
       "  0.05245268048427881,\n",
       "  0.047514934188774366,\n",
       "  0.048072039282069386,\n",
       "  0.05196763819740689,\n",
       "  0.036098513932396936,\n",
       "  0.03889852017062323,\n",
       "  0.042986202509535096,\n",
       "  0.057616518838167714],\n",
       " 'CNOOC': [0.11210786353481611,\n",
       "  0.11041909817400626,\n",
       "  0.10596477710450725,\n",
       "  0.1041719299425048,\n",
       "  0.10909184163603092,\n",
       "  0.10921371082157019,\n",
       "  0.11546007203119515,\n",
       "  0.11553038776006351,\n",
       "  0.1180403189953057],\n",
       " 'ConocoPhillips': [0.043174326460030436,\n",
       "  0.042714523048894365,\n",
       "  0.008718348357878896,\n",
       "  0.013817564370121974,\n",
       "  0.06994308186169526,\n",
       "  0.022198524912865565,\n",
       "  0.06438191283479713,\n",
       "  0.08680869447952079,\n",
       "  0.06269937055537889,\n",
       "  0.07424075418236524,\n",
       "  0.05043749534311845,\n",
       "  0.05588344722468324,\n",
       "  0.04934797374399776,\n",
       "  0.05137908035461224,\n",
       "  0.055007146030282984,\n",
       "  0.06181063637128367,\n",
       "  0.040911285086326396,\n",
       "  0.04995820746385079,\n",
       "  0.09656762731829581],\n",
       " 'Enbridge': [0.05245825459890763,\n",
       "  0.04561237626154011,\n",
       "  0.05622090420484063,\n",
       "  0.051644874907915014,\n",
       "  0.051638727046110645,\n",
       "  0.05431230314751654,\n",
       "  0.08713065359126615,\n",
       "  0.08858150441618144,\n",
       "  0.0860016282233318,\n",
       "  0.10598911044224084,\n",
       "  0.12336990168895291,\n",
       "  0.09849495543463024,\n",
       "  0.09854480603656611],\n",
       " 'EOG': [0.042847473848853485,\n",
       "  0.04413351081886487,\n",
       "  0.03624150037345414,\n",
       "  0.013202564455476113,\n",
       "  0.014118264922170715,\n",
       "  0.014721889972602277,\n",
       "  0.012027128458420121,\n",
       "  0.012595247639633605,\n",
       "  0.032731079999816254,\n",
       "  0.05054379340676815,\n",
       "  0.052697955942623255,\n",
       "  0.055601240374264935,\n",
       "  0.03081822623944229,\n",
       "  0.03308012880564542,\n",
       "  0.03216691568695867,\n",
       "  0.027585911777511185,\n",
       "  0.052497737261187186,\n",
       "  0.04993466225055678,\n",
       "  0.04961290433503345,\n",
       "  0.051693652350327676,\n",
       "  0.056770466769652694,\n",
       "  0.05224499759889486,\n",
       "  0.061160032383548606,\n",
       "  0.0568142699796926,\n",
       "  0.06415844434860062],\n",
       " 'Marathon': [0.06737934826351066,\n",
       "  0.05767573550863362,\n",
       "  0.061998106355253185,\n",
       "  0.07364274879516268,\n",
       "  0.06967418840930022,\n",
       "  0.06565145837569986,\n",
       "  0.06961532538807051,\n",
       "  0.07787058757983259,\n",
       "  0.08256263673004227,\n",
       "  0.0833350834842466,\n",
       "  0.0941525266191841,\n",
       "  0.09810917631522463,\n",
       "  0.09833307817583913],\n",
       " 'Equinor': [0.026669404243698083,\n",
       "  0.03131707110186351,\n",
       "  0.025334577132524357,\n",
       "  0.03794990018890875,\n",
       "  0.03774491563622934,\n",
       "  0.044570091804989186,\n",
       "  0.04904790586947491,\n",
       "  0.03348905753659447,\n",
       "  0.040878310397147045,\n",
       "  0.04703156924577133,\n",
       "  0.042009651782804164,\n",
       "  0.03095962708760574,\n",
       "  0.034715954286367014,\n",
       "  0.0337223685399921,\n",
       "  0.01232182869667556,\n",
       "  0.035714349261545215,\n",
       "  0.03425829192715076,\n",
       "  0.032719547188480504,\n",
       "  0.0394632106623487,\n",
       "  0.04704105886844102,\n",
       "  0.04870419678019996,\n",
       "  0.03391777577363681,\n",
       "  0.07929596973003447,\n",
       "  0.032810824088630654,\n",
       "  0.08831254216888633],\n",
       " 'Shell': [0.14949511229725002,\n",
       "  0.15411604518497923,\n",
       "  0.1299476600064192,\n",
       "  0.109999290318426,\n",
       "  0.10334287257252371,\n",
       "  0.06742826958108884,\n",
       "  0.07629017202143135,\n",
       "  0.07878777849713701,\n",
       "  0.0669962101085771,\n",
       "  0.06359658941216743]}"
      ]
     },
     "execution_count": 191,
     "metadata": {},
     "output_type": "execute_result"
    }
   ],
   "source": [
    "scores  ## Årsrapporter"
   ]
  },
  {
   "cell_type": "code",
   "execution_count": 196,
   "metadata": {},
   "outputs": [
    {
     "data": {
      "text/plain": [
       "[0.06926593019121904,\n",
       " 0.12702157347933327,\n",
       " 0.050776158650527564,\n",
       " 0.08878749565562677,\n",
       " 0.11423162402304628,\n",
       " 0.073999906126488,\n",
       " 0.057616518838167714,\n",
       " 0.1180403189953057,\n",
       " 0.09656762731829581,\n",
       " 0.09854480603656611,\n",
       " 0.06415844434860062,\n",
       " 0.09833307817583913,\n",
       " 0.08831254216888633,\n",
       " 0.06359658941216743]"
      ]
     },
     "execution_count": 196,
     "metadata": {},
     "output_type": "execute_result"
    }
   ],
   "source": [
    "scores2 = []\n",
    "\n",
    "for company in scores:\n",
    "    scores2.append(scores[company][-1])\n",
    "\n",
    "scores2"
   ]
  },
  {
   "cell_type": "code",
   "execution_count": 193,
   "metadata": {},
   "outputs": [
    {
     "data": {
      "text/plain": [
       "dict_keys(['Exxon', 'AkerBP', 'Chevron', 'BP', 'PetroChina', 'Valero', 'RelianceIndustries', 'CNOOC', 'ConocoPhillips', 'Enbridge', 'EOG', 'Marathon', 'Equinor', 'Shell'])"
      ]
     },
     "execution_count": 193,
     "metadata": {},
     "output_type": "execute_result"
    }
   ],
   "source": [
    "scores.keys()"
   ]
  },
  {
   "cell_type": "code",
   "execution_count": 207,
   "metadata": {},
   "outputs": [
    {
     "data": {
      "image/png": "[encoded data removed]",
      "text/plain": [
       "<Figure size 640x480 with 1 Axes>"
      ]
     },
     "metadata": {},
     "output_type": "display_data"
    }
   ],
   "source": [
    "\n",
    "## Nyhetsartikler\n",
    "\n",
    "fig, ax = plt.subplots()\n",
    "\n",
    "labels = ['Exxon', 'AkerBP', 'Chevron', 'BP', 'PetroChina', 'Valero', 'RelianceIndustries', 'CNOOC', 'ConocoPhillips', 'Enbridge', 'EOG', 'Marathon', 'Equinor', 'Shell']\n",
    "\n",
    "# Define the gradient\n",
    "gradient = np.linspace(0, 1, 256)\n",
    "gradient = np.vstack((gradient, gradient))\n",
    "\n",
    "# Plot the gradient background directly on the axes\n",
    "ax.imshow(gradient, aspect='auto', cmap=plt.get_cmap('RdYlGn'), alpha=0.5, extent=[0, 1, 0, 1], transform=ax.transAxes)\n",
    "\n",
    "# Customize the plot\n",
    "plt.xlim(0.05,0.13)\n",
    "plt.ylim(0.2, 550)\n",
    "\n",
    "ax.set_facecolor('none')\n",
    "\n",
    "# Plot the data\n",
    "plt.plot(scores2,[525.03,15.51,269.34,93.82,218.35,48.00,238.42,125.72,129.11,84.28,72.81,4.77,76.79,228.68],\"ro\")\n",
    "\n",
    "for i, label in enumerate(labels):\n",
    "    plt.text(scores2[i], [525.03,15.51,269.34,93.82,218.35,48.00,238.42,125.72,129.11,84.28,72.81,4.77,76.79,228.68][i], label, fontsize=10, ha='left')\n",
    "\n",
    "plt.xlabel(\"Distance score (compared to centroid)\")\n",
    "plt.ylabel(\"Market capitalization (Billion USD)\")\n",
    "plt.title(\"Market capitalization compared to 'sustainability' score (annual reports)\")\n",
    "\n",
    "\n",
    "plt.show()"
   ]
  }
 ],
 "metadata": {
  "kernelspec": {
   "display_name": "embed",
   "language": "python",
   "name": "python3"
  },
  "language_info": {
   "codemirror_mode": {
    "name": "ipython",
    "version": 3
   },
   "file_extension": ".py",
   "mimetype": "text/x-python",
   "name": "python",
   "nbconvert_exporter": "python",
   "pygments_lexer": "ipython3",
   "version": "3.12.3"
  },
  "orig_nbformat": 4
 },
 "nbformat": 4,
 "nbformat_minor": 2
}
